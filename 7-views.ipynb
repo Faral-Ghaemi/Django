{
 "cells": [
  {
   "cell_type": "markdown",
   "metadata": {},
   "source": [
    "# Django UnChained\n",
    "\n",
    "<img src=\"images/django.jpg\">\n",
    "\n",
    "# View"
   ]
  },
  {
   "cell_type": "code",
   "execution_count": null,
   "metadata": {},
   "outputs": [],
   "source": []
  },
  {
   "cell_type": "markdown",
   "metadata": {},
   "source": [
    "\n",
    "<img src=\"https://mdn.mozillademos.org/files/13931/basic-django.png\">"
   ]
  },
  {
   "cell_type": "markdown",
   "metadata": {},
   "source": [
    "# EXP1"
   ]
  },
  {
   "cell_type": "markdown",
   "metadata": {},
   "source": [
    "# URLs"
   ]
  },
  {
   "cell_type": "code",
   "execution_count": null,
   "metadata": {},
   "outputs": [],
   "source": [
    "from django.conf.urls import url\n",
    "\n",
    "from . import views\n",
    "\n",
    "app_name = 'polls'\n",
    "urlpatterns = [\n",
    "    url(r'^$', views.index, name='index'),\n",
    "    url(r'^(?P<question_id>[0-9]+)/$', views.detail, name='detail'),\n",
    "    url(r'^(?P<question_id>[0-9]+)/results/$', views.results, name='results'),\n",
    "    url(r'^(?P<question_id>[0-9]+)/vote/$', views.vote, name='vote'),\n",
    "]\n"
   ]
  },
  {
   "cell_type": "markdown",
   "metadata": {},
   "source": [
    "# models"
   ]
  },
  {
   "cell_type": "code",
   "execution_count": null,
   "metadata": {},
   "outputs": [],
   "source": [
    "from django.db import models\n",
    "\n",
    "\n",
    "class Question(models.Model):\n",
    "    question_text = models.CharField(max_length=200)\n",
    "    pub_date = models.DateTimeField('date published')\n",
    "\n",
    "\n",
    "class Choice(models.Model):\n",
    "    question = models.ForeignKey(Question, on_delete=models.CASCADE)\n",
    "    choice_text = models.CharField(max_length=200)\n",
    "    votes = models.IntegerField(default=0)"
   ]
  },
  {
   "cell_type": "markdown",
   "metadata": {},
   "source": [
    "# HTTP Request, HTTP Response"
   ]
  },
  {
   "cell_type": "code",
   "execution_count": null,
   "metadata": {},
   "outputs": [],
   "source": [
    "from django.http import HttpResponse\n",
    "\n",
    "def index(request):\n",
    "    return HttpResponse(\"Hello, world. You're at the polls index.\")\n",
    "\n",
    "def detail(request, question_id):\n",
    "    return HttpResponse(\"You're looking at question %s.\" % question_id)\n",
    "\n",
    "def results(request, question_id):\n",
    "    response = \"You're looking at the results of question %s.\"\n",
    "    return HttpResponse(response % question_id)\n",
    "\n",
    "def vote(request, question_id):\n",
    "    return HttpResponse(\"You're voting on question %s.\" % question_id)"
   ]
  },
  {
   "cell_type": "markdown",
   "metadata": {},
   "source": [
    "# views and models"
   ]
  },
  {
   "cell_type": "code",
   "execution_count": null,
   "metadata": {},
   "outputs": [],
   "source": [
    "def list_view(request):\n",
    "    objs=models.ModelName.objects.all()\n",
    "    return HttpResponse(\"You're looking at list_view\" %objs)\n",
    "\n",
    "from django.shortcuts import get_object_or_404\n",
    "\n",
    "def detail_view(request, pk):\n",
    "    obj = get_object_or_404(ModelName, pk=pk)\n",
    "    return HttpResponse(\"You're looking at detail_view\", pk, obj)"
   ]
  },
  {
   "cell_type": "code",
   "execution_count": null,
   "metadata": {},
   "outputs": [],
   "source": [
    "def index(request):\n",
    "    latest_question_list = Question.objects.order_by('-pub_date')[:5]\n",
    "    output = ', '.join([q.question_text for q in latest_question_list])\n",
    "    return HttpResponse(output)\n"
   ]
  },
  {
   "cell_type": "markdown",
   "metadata": {},
   "source": [
    "# views and templates"
   ]
  },
  {
   "cell_type": "code",
   "execution_count": null,
   "metadata": {},
   "outputs": [],
   "source": [
    "def index(request):\n",
    "    latest_question_list = Question.objects.order_by('-pub_date')[:5]\n",
    "    template = loader.get_template('polls/index.html')\n",
    "    context = {\n",
    "        'latest_question_list': latest_question_list,\n",
    "    }\n",
    "    return HttpResponse(template.render(context, request))"
   ]
  },
  {
   "cell_type": "code",
   "execution_count": null,
   "metadata": {},
   "outputs": [],
   "source": [
    "def index(request):\n",
    "    latest_question_list = Question.objects.order_by('-pub_date')[:5]\n",
    "    context = {'latest_question_list': latest_question_list}\n",
    "    return render(request, 'polls/index.html', context)"
   ]
  },
  {
   "cell_type": "code",
   "execution_count": null,
   "metadata": {},
   "outputs": [],
   "source": [
    "{% if latest_question_list %}\n",
    "    <ul>\n",
    "    {% for question in latest_question_list %}\n",
    "        <li><a href=\"/polls/{{ question.id }}/\">{{ question.question_text }}</a></li>\n",
    "        <li><a href=\"{% url 'detail' question.id %}\">{{ question.question_text }}</a></li>\n",
    "        <li><a href=\"{% url 'polls:detail' question.id %}\">{{ question.question_text }}</a></li>\n",
    "    {% endfor %}\n",
    "    </ul>\n",
    "{% else %}\n",
    "    <p>No polls are available.</p>\n",
    "{% endif %}"
   ]
  },
  {
   "cell_type": "markdown",
   "metadata": {},
   "source": [
    "# detail_view"
   ]
  },
  {
   "cell_type": "code",
   "execution_count": null,
   "metadata": {},
   "outputs": [],
   "source": [
    "from django.shortcuts import render\n",
    "\n",
    "def detail_view(request, pk):\n",
    "    obj = get_object_or_404(ModelName, pk=pk)\n",
    "    return render(request, 'app/template.html', {'obj': obj})"
   ]
  },
  {
   "cell_type": "code",
   "execution_count": null,
   "metadata": {},
   "outputs": [],
   "source": [
    "def detail(request, question_id):\n",
    "    question = get_object_or_404(Question, pk=question_id)\n",
    "    return render(request, 'polls/detail.html', {'question': question})"
   ]
  },
  {
   "cell_type": "code",
   "execution_count": null,
   "metadata": {},
   "outputs": [],
   "source": [
    "<h1>{{ question.question_text }}</h1>\n",
    "<ul>\n",
    "{% for choice in question.choice_set.all %}\n",
    "    <li>{{ choice.choice_text }}</li>\n",
    "{% endfor %}\n",
    "</ul>\n"
   ]
  },
  {
   "cell_type": "markdown",
   "metadata": {},
   "source": [
    "# Forms"
   ]
  },
  {
   "cell_type": "code",
   "execution_count": null,
   "metadata": {},
   "outputs": [],
   "source": [
    "<h1>{{ question.question_text }}</h1>\n",
    "\n",
    "{% if error_message %}<p><strong>{{ error_message }}</strong></p>{% endif %}\n",
    "\n",
    "<form action=\"{% url 'polls:vote' question.id %}\" method=\"post\">\n",
    "{% csrf_token %}\n",
    "{% for choice in question.choice_set.all %}\n",
    "    <input type=\"radio\" name=\"choice\" id=\"choice{{ forloop.counter }}\" value=\"{{ choice.id }}\" />\n",
    "    <label for=\"choice{{ forloop.counter }}\">{{ choice.choice_text }}</label><br />\n",
    "{% endfor %}\n",
    "<input type=\"submit\" value=\"Vote\" />\n",
    "</form>"
   ]
  },
  {
   "cell_type": "code",
   "execution_count": null,
   "metadata": {},
   "outputs": [],
   "source": [
    "def vote(request, question_id):\n",
    "    question = get_object_or_404(Question, pk=question_id)\n",
    "    try:\n",
    "        selected_choice = question.choice_set.get(pk=request.POST['choice'])\n",
    "    except (KeyError, Choice.DoesNotExist):\n",
    "        # Redisplay the question voting form.\n",
    "        return render(request, 'polls/detail.html', {\n",
    "            'question': question,\n",
    "            'error_message': \"You didn't select a choice.\",\n",
    "        })\n",
    "    else:\n",
    "        selected_choice.votes += 1\n",
    "        selected_choice.save()\n",
    "        # Always return an HttpResponseRedirect after successfully dealing\n",
    "        # with POST data. This prevents data from being posted twice if a\n",
    "        # user hits the Back button.\n",
    "        return HttpResponseRedirect(reverse('polls:results', args=(question.id,)))"
   ]
  },
  {
   "cell_type": "markdown",
   "metadata": {},
   "source": [
    "# Final Step"
   ]
  },
  {
   "cell_type": "code",
   "execution_count": null,
   "metadata": {},
   "outputs": [],
   "source": [
    "def results(request, question_id):\n",
    "    question = get_object_or_404(Question, pk=question_id)\n",
    "    return render(request, 'polls/results.html', {'question': question})\n"
   ]
  },
  {
   "cell_type": "code",
   "execution_count": null,
   "metadata": {},
   "outputs": [],
   "source": [
    "<h1>{{ question.question_text }}</h1>\n",
    "\n",
    "<ul>\n",
    "{% for choice in question.choice_set.all %}\n",
    "    <li>{{ choice.choice_text }} -- {{ choice.votes }} vote{{ choice.votes|pluralize }}</li>\n",
    "{% endfor %}\n",
    "</ul>\n",
    "\n",
    "<a href=\"{% url 'polls:detail' question.id %}\">Vote again?</a>"
   ]
  },
  {
   "cell_type": "markdown",
   "metadata": {},
   "source": [
    "# Built-in class-based views API"
   ]
  },
  {
   "cell_type": "markdown",
   "metadata": {},
   "source": [
    "### Base vs Generic views¶\n",
    "\n",
    "Base class-based views can be thought of as parent views, which can be used by themselves or inherited from. They may not provide all the capabilities required for projects, in which case there are Mixins which extend what base views can do.\n",
    "\n",
    "Django’s generic views are built off of those base views, and were developed as a shortcut for common usage patterns such as displaying the details of an object. They take certain common idioms and patterns found in view development and abstract them so that you can quickly write common views of data without having to repeat yourself.\n",
    "\n",
    "https://docs.djangoproject.com/en/2.0/ref/class-based-views/"
   ]
  },
  {
   "cell_type": "markdown",
   "metadata": {},
   "source": [
    "# Generic display views"
   ]
  },
  {
   "cell_type": "code",
   "execution_count": null,
   "metadata": {},
   "outputs": [],
   "source": [
    "class IndexView(generic.ListView):\n",
    "    template_name = 'polls/index.html'\n",
    "    context_object_name = 'latest_question_list'\n",
    "\n",
    "    def get_queryset(self):\n",
    "        \"\"\"Return the last five published questions.\"\"\"\n",
    "        return Question.objects.order_by('-pub_date')[:5]\n",
    "\n",
    "\n",
    "class DetailView(generic.DetailView):\n",
    "    model = Question\n",
    "    template_name = 'polls/detail.html'\n",
    "\n",
    "\n",
    "class ResultsView(generic.DetailView):\n",
    "    model = Question\n",
    "    template_name = 'polls/results.html'"
   ]
  },
  {
   "cell_type": "code",
   "execution_count": null,
   "metadata": {},
   "outputs": [],
   "source": [
    "app_name = 'polls'\n",
    "urlpatterns = [\n",
    "    url(r'^$', views.IndexView.as_view(), name='index'),\n",
    "    url(r'^(?P<pk>[0-9]+)/$', views.DetailView.as_view(), name='detail'),\n",
    "    url(r'^(?P<pk>[0-9]+)/results/$', views.ResultsView.as_view(), name='results'),\n",
    "    url(r'^(?P<question_id>[0-9]+)/vote/$', views.vote, name='vote'),\n",
    "]"
   ]
  }
 ],
 "metadata": {
  "kernelspec": {
   "display_name": "Python 3",
   "language": "python",
   "name": "python3"
  },
  "language_info": {
   "codemirror_mode": {
    "name": "ipython",
    "version": 3
   },
   "file_extension": ".py",
   "mimetype": "text/x-python",
   "name": "python",
   "nbconvert_exporter": "python",
   "pygments_lexer": "ipython3",
   "version": "3.5.3"
  }
 },
 "nbformat": 4,
 "nbformat_minor": 2
}
