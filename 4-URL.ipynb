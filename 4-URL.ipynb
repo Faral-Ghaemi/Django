{
 "cells": [
  {
   "cell_type": "markdown",
   "metadata": {},
   "source": [
    "# Django UnChained\n",
    "\n",
    "<img src=\"images/django.jpg\">\n",
    "\n",
    "# URL"
   ]
  },
  {
   "cell_type": "markdown",
   "metadata": {},
   "source": [
    "# Regex"
   ]
  },
  {
   "cell_type": "markdown",
   "metadata": {},
   "source": [
    "<img src=\"images/Screenshot from 2017-11-17 21-41-55.png\">"
   ]
  },
  {
   "cell_type": "markdown",
   "metadata": {},
   "source": [
    "## EXP1\n",
    "<img src=\"images/username.jpg\">\n",
    "\n",
    "## EXP2\n",
    "<img src=\"images/password.jpg\">"
   ]
  },
  {
   "cell_type": "markdown",
   "metadata": {},
   "source": [
    "## URL dispatcher:\n",
    "\n",
    "A clean, elegant URL scheme is an important detail in a high-quality Web application.\n",
    "Django lets you design URLs however you want, with no framework limitations.\n",
    "\n",
    "There’s no .php or .cgi required, and certainly none of that 0,2097,1-1-1928,00 nonsense.\n",
    "\n",
    "See Cool URIs don’t change, by World Wide Web creator Tim Berners-Lee,\n",
    "for excellent arguments on why URLs should be clean and usable.\n",
    "\n",
    "## Overview:\n",
    "\n",
    "To design URLs for an app, you create a Python module informally called a URLconf (URL configuration).\n",
    "This module is pure Python code and is a simple mapping between URL patterns (simple regular expressions) to Python functions (your views).\n",
    "\n",
    "This mapping can be as short or as long as needed.\n",
    "It can reference other mappings. And, because it’s pure Python code, it can be constructed dynamically.\n",
    "\n",
    "## How Django processes a request:\n",
    "\n",
    "When a user requests a page from your Django-powered site,\n",
    "this is the algorithm the system follows to determine which Python code to execute:\n",
    "\n",
    "1. Django determines the root URLconf module to use. Ordinarily, this is the value of the ROOT_URLCONF setting, but if the incoming HttpRequest object has a urlconf attribute (set by middleware), its value will be used in place of the ROOT_URLCONF setting.\n",
    "\n",
    "2. Django loads that Python module and looks for the variable urlpatterns. This should be a Python list of django.conf.urls.url() instances.\n",
    "\n",
    "3. Django runs through each URL pattern, in order, and stops at the first one that matches the requested URL.\n",
    "4. Once one of the regexes matches, Django imports and calls the given view, which is a simple Python function (or a class-based view). The view gets passed the following arguments:\n",
    "    \n",
    "    > An instance of HttpRequest.\n",
    "\n",
    "    > If the matched regular expression returned no named groups, then the matches from the regular expression are provided as positional arguments.\n",
    "\n",
    "    > The keyword arguments are made up of any named groups matched by the regular expression, overridden by any arguments specified in the optional kwargs argument to django.conf.urls.url().\n",
    "\n",
    "5. If no regex matches, or if an exception is raised during any point in this process, Django invokes an appropriate error-handling view. See Error handling below.\n",
    "\n",
    "\n",
    "## EXP3"
   ]
  },
  {
   "cell_type": "code",
   "execution_count": null,
   "metadata": {
    "collapsed": true
   },
   "outputs": [],
   "source": [
    "from django.conf.urls import url\n",
    "\n",
    "from . import views\n",
    "\n",
    "urlpatterns = [\n",
    "    url(r'^articles/2003/$', views.special_case_2003),\n",
    "    url(r'^articles/([0-9]{4})/$', views.year_archive),\n",
    "    url(r'^articles/([0-9]{4})/([0-9]{2})/$', views.month_archive),\n",
    "    url(r'^articles/([0-9]{4})/([0-9]{2})/([0-9]+)/$', views.article_detail),\n",
    "]"
   ]
  },
  {
   "cell_type": "markdown",
   "metadata": {},
   "source": [
    "Symbol \tMeaning\n",
    "^ \tMatch the beginning of the text\n",
    "$ \tMatch the end of the text\n",
    "\\d \tMatch a digit (0, 1, 2, ... 9)\n",
    "\\w \tMatch a word character, e.g. any upper- or lower-case character in the alphabet, digit or the underscore character (_)\n",
    "+ \tMatch one or more of the preceding character. For example, to match one or more digits you would use \\d+. To match one or more \"a\" characters, you could use a+\n",
    "* \tMatch zero or more of the preceding character. For example, to match nothing or a word you could use \\w*\n",
    "( ) \tCapture the part of the pattern inside the brackets. Any captured values will be passed to the view as unnamed parameters (if multiple patterns are captured, the associated parameters will be supplied in the order that the captures were declared).\n",
    "(?P<name>...) \tCapture the pattern (indicated by ...) as a named variable (in this case \"name\"). The captured values are passed to the view with the name specified. Your view must therefore declare an argument with the same name!\n",
    "[  ] \tMatch against one character in the set. For example, [abc] will match on 'a' or 'b' or 'c'. [-\\w] will match on the '-' character or any word character."
   ]
  },
  {
   "cell_type": "markdown",
   "metadata": {},
   "source": [
    "\n",
    "## Notes:\n",
    "\n",
    "To capture a value from the URL, just put parenthesis around it.\n",
    "There’s no need to add a leading slash, because every URL has that. For example, it’s ^articles, not ^/articles.\n",
    "The 'r' in front of each regular expression string is optional but recommended.\n",
    "It tells Python that a string is “raw” – that nothing in the string should be escaped. See Dive Into Python’s explanation.\n",
    "Example requests:\n",
    "\n",
    "> A request to /articles/2005/03/ would match the third entry in the list. Django would call the function views.month_archive(request, '2005', '03').\n",
    "\n",
    ">/articles/2005/3/ would not match any URL patterns, because the third entry in the list requires two digits for the month.\n",
    "\n",
    ">/articles/2003/ would match the first pattern in the list, not the second one, because the patterns are tested in order, and the first one is the first test to pass. Feel free to exploit the ordering to insert special cases like this. Here, Django would call the function views.special_case_2003(request)\n",
    "\n",
    ">/articles/2003 would not match any of these patterns, because each pattern requires that the URL end with a slash.\n",
    "\n",
    ">/articles/2003/03/03/ would match the final pattern. Django would call the function views.article_detail(request, '2003', '03', '03').\n",
    "\n",
    "## Named groups:\n",
    "The above example used simple, non-named regular-expression groups (via parenthesis) to capture bits of the URL and pass them as positional arguments to a view.\n",
    "In more advanced usage, it’s possible to use named regular-expression groups to capture URL bits and pass them as keyword arguments to a view.\n",
    "In Python regular expressions, the syntax for named regular-expression groups is (?P<name>pattern), where name is the name of the group and pattern is some pattern to match.\n",
    "Here’s the above example URLconf, rewritten to use named groups:\n"
   ]
  },
  {
   "cell_type": "code",
   "execution_count": null,
   "metadata": {
    "collapsed": true
   },
   "outputs": [],
   "source": [
    "from django.conf.urls import url\n",
    "\n",
    "from . import views\n",
    "\n",
    "urlpatterns = [\n",
    "    url(r'^articles/2003/$', views.special_case_2003),\n",
    "    url(r'^articles/(?P<year>[0-9]{4})/$', views.year_archive),\n",
    "    url(r'^articles/(?P<year>[0-9]{4})/(?P<month>[0-9]{2})/$', views.month_archive),\n",
    "    url(r'^articles/(?P<year>[0-9]{4})/(?P<month>[0-9]{2})/(?P<day>[0-9]{2})/$', views.article_detail),\n",
    "]"
   ]
  },
  {
   "cell_type": "markdown",
   "metadata": {},
   "source": [
    "\n",
    "This accomplishes exactly the same thing as the previous example, with one subtle difference:\n",
    "The captured values are passed to view functions as keyword arguments rather than positional arguments.\n",
    "For example:\n",
    "> A request to /articles/2005/03/ would call the function views.month_archive(request, year='2005', month='03'), instead of views.month_archive(request, '2005', '03').\n",
    "\n",
    "> A request to /articles/2003/03/03/ would call the function views.article_detail(request, year='2003', month='03', day='03').\n",
    "\n",
    "In practice, this means your URLconfs are slightly more explicit and less prone to argument-order bugs –\n",
    "and you can reorder the arguments in your views’ function definitions.\n",
    "Of course, these benefits come at the cost of brevity; some developers find the named-group syntax ugly and too verbose."
   ]
  },
  {
   "cell_type": "markdown",
   "metadata": {},
   "source": [
    "## What the URLconf searches against:\n",
    "\n",
    "The URLconf searches against the requested URL, as a normal Python string. This does not include GET or POST parameters, or the domain name.\n",
    "\n",
    "> For example, in a request to https://www.example.com/myapp/, the URLconf will look for myapp/.\n",
    "\n",
    "> In a request to https://www.example.com/myapp/?page=3, the URLconf will look for myapp/.\n",
    "\n",
    "The URLconf doesn’t look at the request method. In other words, all request methods – POST, GET, HEAD, etc. –\n",
    "will be routed to the same function for the same URL.\n",
    "\n",
    "\n",
    "## Captured arguments are always strings:\n",
    "\n",
    "Each captured argument is sent to the view as a plain Python string,\n",
    "regardless of what sort of match the regular expression makes.\n",
    "For example, in this URLconf line:"
   ]
  },
  {
   "cell_type": "code",
   "execution_count": null,
   "metadata": {
    "collapsed": true
   },
   "outputs": [],
   "source": [
    "url(r'^articles/(?P<year>[0-9]{4})/$', views.year_archive)"
   ]
  },
  {
   "cell_type": "markdown",
   "metadata": {},
   "source": [
    "the year argument passed to views.year_archive() will be a string,\n",
    "not an integer, even though the [0-9]{4} will only match integer strings.\n",
    "\n",
    "## Specifying defaults for view arguments:\n",
    "\n",
    "A convenient trick is to specify default parameters for your views’ arguments.\n",
    "Here’s an example URLconf and view:\n"
   ]
  },
  {
   "cell_type": "code",
   "execution_count": null,
   "metadata": {
    "collapsed": true
   },
   "outputs": [],
   "source": [
    "from django.conf.urls import url\n",
    "\n",
    "from . import views\n",
    "\n",
    "urlpatterns = [\n",
    "    url(r'^blog/$', views.page),\n",
    "    url(r'^blog/page(?P<num>[0-9]+)/$', views.page),\n",
    "]\n",
    "\n",
    "# View (in blog/views.py)\n",
    "def page(request, num=\"1\"):\n",
    "    # Output the appropriate page of blog entries, according to num.\n",
    "    ..."
   ]
  },
  {
   "cell_type": "markdown",
   "metadata": {},
   "source": [
    "\n",
    "In the above example, both URL patterns point to the same view – views.page – but the first pattern doesn’t capture anything from the URL.\n",
    "If the first pattern matches, the page() function will use its default argument for num, \"1\".\n",
    "If the second pattern matches, page() will use whatever num value was captured by the regex.\n",
    "\n",
    "## Performance:\n",
    "\n",
    "Each regular expression in a urlpatterns is compiled the first time it’s accessed.\n",
    "This makes the system blazingly fast.\n",
    "\n",
    "Syntax of the urlpatterns variable:\n",
    "urlpatterns should be a Python list of url() instances.\n",
    "\n",
    "## Error handling:\n",
    "\n",
    "When Django can’t find a regex matching the requested URL, or when an exception is raised,\n",
    "Django will invoke an error-handling view.\n",
    "\n",
    "The views to use for these cases are specified by four variables.\n",
    "Their default values should suffice for most projects, but further customization is possible by overriding their default values.\n",
    "\n",
    "See the documentation on customizing error views for the full details.\n",
    "\n",
    "Such values can be set in your root URLconf. Setting these variables in any other URLconf will have no effect.\n",
    "\n",
    "Values must be callables, or strings representing the full Python import path to the view that should be called to handle the error condition at hand.\n",
    "\n",
    "The variables are:\n",
    ">handler400 – See django.conf.urls.handler400.\n",
    "\n",
    ">handler403 – See django.conf.urls.handler403.\n",
    "\n",
    ">handler404 – See django.conf.urls.handler404.\n",
    "\n",
    ">handler500 – See django.conf.urls.handler500."
   ]
  },
  {
   "cell_type": "markdown",
   "metadata": {},
   "source": [
    "## Including other URLconfs:\n",
    "\n",
    "At any point, your urlpatterns can “include” other URLconf modules.\n",
    "This essentially “roots” a set of URLs below other ones.\n",
    "\n",
    "For example, here’s an excerpt of the URLconf for the Django website itself.\n",
    "It includes a number of other URLconfs:"
   ]
  },
  {
   "cell_type": "code",
   "execution_count": null,
   "metadata": {
    "collapsed": true
   },
   "outputs": [],
   "source": [
    "from django.conf.urls import include, url\n",
    "\n",
    "urlpatterns = [\n",
    "    # ... snip ...\n",
    "    url(r'^community/', include('django_website.aggregator.urls')),\n",
    "    url(r'^contact/', include('django_website.contact.urls')),\n",
    "    # ... snip ...\n",
    "]"
   ]
  },
  {
   "cell_type": "markdown",
   "metadata": {},
   "source": [
    "Note that the regular expressions in this example don’t have a $ (end-of-string match character) but do include a trailing slash.\n",
    "Whenever Django encounters include() (django.conf.urls.include()), it chops off whatever part of the URL matched up to that point and\n",
    "sends the remaining string to the included URLconf for further processing.\n",
    "\n",
    "\n",
    "other possibility is to include additional URL patterns by using a list of url() instances.\n",
    "For example, consider this URLconf:\n"
   ]
  },
  {
   "cell_type": "code",
   "execution_count": null,
   "metadata": {
    "collapsed": true
   },
   "outputs": [],
   "source": [
    "from django.conf.urls import include, url\n",
    "\n",
    "from apps.main import views as main_views\n",
    "from credit import views as credit_views\n",
    "\n",
    "extra_patterns = [\n",
    "    url(r'^reports/$', credit_views.report),\n",
    "    url(r'^reports/(?P<id>[0-9]+)/$', credit_views.report),\n",
    "    url(r'^charge/$', credit_views.charge),\n",
    "]\n",
    "\n",
    "urlpatterns = [\n",
    "    url(r'^$', main_views.homepage),\n",
    "    url(r'^help/', include('apps.help.urls')),\n",
    "    url(r'^credit/', include(extra_patterns)),\n",
    "]"
   ]
  },
  {
   "cell_type": "markdown",
   "metadata": {},
   "source": [
    "\n",
    "In this example, the /credit/reports/ URL will be handled by the credit_views.report() Django view.\n",
    "\n",
    "This can be used to remove redundancy from URLconfs where a single pattern prefix is used repeatedly.\n",
    "For example, consider this URLconf:\n",
    "\n"
   ]
  },
  {
   "cell_type": "code",
   "execution_count": null,
   "metadata": {
    "collapsed": true
   },
   "outputs": [],
   "source": [
    "from django.conf.urls import url\n",
    "from . import views\n",
    "\n",
    "urlpatterns = [\n",
    "    url(r'^(?P<page_slug>[\\w-]+)-(?P<page_id>\\w+)/history/$', views.history),\n",
    "    url(r'^(?P<page_slug>[\\w-]+)-(?P<page_id>\\w+)/edit/$', views.edit),\n",
    "    url(r'^(?P<page_slug>[\\w-]+)-(?P<page_id>\\w+)/discuss/$', views.discuss),\n",
    "    url(r'^(?P<page_slug>[\\w-]+)-(?P<page_id>\\w+)/permissions/$', views.permissions),\n",
    "]"
   ]
  },
  {
   "cell_type": "markdown",
   "metadata": {},
   "source": [
    "We can improve this by stating the common path prefix only once and grouping the suffixes that differ:"
   ]
  },
  {
   "cell_type": "code",
   "execution_count": null,
   "metadata": {
    "collapsed": true
   },
   "outputs": [],
   "source": [
    "from django.conf.urls import include, url\n",
    "from . import views\n",
    "\n",
    "urlpatterns = [\n",
    "    url(r'^(?P<page_slug>[\\w-]+)-(?P<page_id>\\w+)/', include([\n",
    "        url(r'^history/$', views.history),\n",
    "        url(r'^edit/$', views.edit),\n",
    "        url(r'^discuss/$', views.discuss),\n",
    "        url(r'^permissions/$', views.permissions),\n",
    "    ])),\n",
    "]"
   ]
  },
  {
   "cell_type": "markdown",
   "metadata": {},
   "source": [
    "## Captured parameters:\n",
    "An included URLconf receives any captured parameters from parent URLconfs,\n",
    "so the following example is valid:"
   ]
  },
  {
   "cell_type": "code",
   "execution_count": null,
   "metadata": {
    "collapsed": true
   },
   "outputs": [],
   "source": [
    "# In settings/urls/main.py\n",
    "from django.conf.urls import include, url\n",
    "\n",
    "urlpatterns = [\n",
    "    url(r'^(?P<username>\\w+)/blog/', include('foo.urls.blog')),\n",
    "]\n",
    "\n",
    "# In foo/urls/blog.py\n",
    "from django.conf.urls import url\n",
    "from . import views\n",
    "\n",
    "urlpatterns = [\n",
    "    url(r'^$', views.blog.index),\n",
    "    url(r'^archive/$', views.blog.archive),\n",
    "]"
   ]
  },
  {
   "cell_type": "markdown",
   "metadata": {},
   "source": [
    "In the above example, the captured \"username\" variable is passed to the included URLconf, as expected."
   ]
  },
  {
   "cell_type": "markdown",
   "metadata": {},
   "source": [
    "## Passing extra options to view functions:\n",
    "URLconfs have a hook that lets you pass extra arguments to your view functions, as a Python dictionary.\n",
    "\n",
    "The django.conf.urls.url() function can take an optional third argument which should be a dictionary of extra keyword arguments to pass to the view function.\n",
    "\n",
    "For example:"
   ]
  },
  {
   "cell_type": "code",
   "execution_count": null,
   "metadata": {
    "collapsed": true
   },
   "outputs": [],
   "source": [
    "from django.conf.urls import url\n",
    "from . import views\n",
    "\n",
    "urlpatterns = [\n",
    "    url(r'^blog/(?P<year>[0-9]{4})/$', views.year_archive, {'foo': 'bar'}),\n",
    "]"
   ]
  },
  {
   "cell_type": "markdown",
   "metadata": {},
   "source": [
    "## Passing extra options to include():\n",
    "\n",
    "Similarly, you can pass extra options to include(). When you pass extra options to include(),\n",
    "each line in the included URLconf will be passed the extra options.\n",
    "\n",
    "For example, these two URLconf sets are functionally identical:\n",
    "\n",
    "Set one:"
   ]
  },
  {
   "cell_type": "code",
   "execution_count": null,
   "metadata": {
    "collapsed": true
   },
   "outputs": [],
   "source": [
    "# main.py\n",
    "from django.conf.urls import include, url\n",
    "\n",
    "urlpatterns = [\n",
    "    url(r'^blog/', include('inner'), {'blogid': 3}),\n",
    "]\n",
    "\n",
    "# inner.py\n",
    "from django.conf.urls import url\n",
    "from mysite import views\n",
    "\n",
    "urlpatterns = [\n",
    "    url(r'^archive/$', views.archive),\n",
    "    url(r'^about/$', views.about),\n",
    "]"
   ]
  },
  {
   "cell_type": "markdown",
   "metadata": {},
   "source": [
    "Set two:"
   ]
  },
  {
   "cell_type": "code",
   "execution_count": null,
   "metadata": {
    "collapsed": true
   },
   "outputs": [],
   "source": [
    "# main.py\n",
    "from django.conf.urls import include, url\n",
    "from mysite import views\n",
    "\n",
    "urlpatterns = [\n",
    "    url(r'^blog/', include('inner')),\n",
    "]\n",
    "\n",
    "# inner.py\n",
    "from django.conf.urls import url\n",
    "\n",
    "urlpatterns = [\n",
    "    url(r'^archive/$', views.archive, {'blogid': 3}),\n",
    "    url(r'^about/$', views.about, {'blogid': 3}),\n",
    "]\n"
   ]
  },
  {
   "cell_type": "markdown",
   "metadata": {},
   "source": [
    "\n",
    "Note that extra options will always be passed to every line in the included URLconf, regardless of whether the line’s view actually accepts those options as valid.\n",
    "For this reason, this technique is only useful if you’re certain that every view in the included URLconf accepts the extra options you’re passing.\n"
   ]
  },
  {
   "cell_type": "markdown",
   "metadata": {},
   "source": [
    "## URL namespaces:\n",
    "\n",
    "URL namespaces allow you to uniquely reverse named URL patterns even if different applications use the same URL names.\n",
    "It’s a good practice for third-party apps to always use namespaced URLs (as we did in the tutorial).\n",
    "Similarly, it also allows you to reverse URLs if multiple instances of an application are deployed.\n",
    "In other words, since multiple instances of a single application will share named URLs, namespaces provide a way to tell these named URLs apart.\n",
    "\n",
    "Django applications that make proper use of URL namespacing can be deployed more than once for a particular site.\n",
    "For example django.contrib.admin has an AdminSite class which allows you to easily deploy more than one instance of the admin.\n",
    "In a later example, we’ll discuss the idea of deploying the polls application from the tutorial in two different locations\n",
    "so we can serve the same functionality to two different audiences (authors and publishers).\n",
    "\n",
    "A URL namespace comes in two parts, both of which are strings:\n",
    "\n",
    "application namespace\n",
    "\n",
    "> This describes the name of the application that is being deployed.\n",
    "\n",
    "> Every instance of a single application will have the same application namespace.\n",
    "\n",
    "> For example, Django’s admin application has the somewhat predictable application namespace of 'admin'.\n",
    "\n",
    "## instance namespace\n",
    "This identifies a specific instance of an application.\n",
    "Instance namespaces should be unique across your entire project.\n",
    "However, an instance namespace can be the same as the application namespace.\n",
    "This is used to specify a default instance of an application.\n",
    "For example, the default Django admin instance has an instance namespace of 'admin'.\n",
    "\n",
    "> Namespaced URLs are specified using the ':' operator.\n",
    "\n",
    "For example, the main index page of the admin application is referenced using\n",
    "\n",
    ">'admin:index'.\n",
    "\n",
    "This indicates a namespace of 'admin', and a named URL of 'index'.\n",
    "\n",
    "\n",
    "## Namespaces can also be nested.\n",
    "The named URL 'sports:polls:index' would look for a pattern named 'index' in the namespace 'polls'\n",
    "that is itself defined within the top-level namespace 'sports'.\n",
    "\n",
    "URL namespaces and included URLconfs:\n",
    "\n",
    "Application namespaces of included URLconfs can be specified in two ways.\n",
    "\n",
    "Firstly, you can set an app_name attribute in the included URLconf module, at the same level as the urlpatterns attribute.\n",
    "You have to pass the actual module, or a string reference to the module, to include(), not the list of urlpatterns itselfself."
   ]
  },
  {
   "cell_type": "code",
   "execution_count": null,
   "metadata": {
    "collapsed": true
   },
   "outputs": [],
   "source": [
    "from django.conf.urls import url\n",
    "\n",
    "from . import views\n",
    "\n",
    "app_name = 'polls'\n",
    "urlpatterns = [\n",
    "    url(r'^$', views.IndexView.as_view(), name='index'),\n",
    "    url(r'^(?P<pk>\\d+)/$', views.DetailView.as_view(), name='detail'),\n",
    "    ...\n",
    "]\n",
    "\n",
    "from django.conf.urls import include, url\n",
    "\n",
    "urlpatterns = [\n",
    "    url(r'^polls/', include('polls.urls')),\n",
    "]\n"
   ]
  },
  {
   "cell_type": "markdown",
   "metadata": {},
   "source": [
    "\n",
    "The URLs defined in polls.urls will have an application namespace polls.\n",
    "\n",
    "Secondly, you can include an object that contains embedded namespace data.\n",
    "If you include() a list of url() instances, the URLs contained in that object will be added to the global namespace.\n",
    "However, you can also include() a 2-tuple containing:\n",
    "\n",
    "    (<list of url() instances>, <application namespace>)\n",
    "\n",
    "For example:\n",
    "\n"
   ]
  },
  {
   "cell_type": "code",
   "execution_count": null,
   "metadata": {
    "collapsed": true
   },
   "outputs": [],
   "source": [
    "from django.conf.urls import include, url\n",
    "\n",
    "from . import views\n",
    "\n",
    "polls_patterns = ([\n",
    "    url(r'^$', views.IndexView.as_view(), name='index'),\n",
    "    url(r'^(?P<pk>\\d+)/$', views.DetailView.as_view(), name='detail'),\n",
    "], 'polls')\n",
    "\n",
    "urlpatterns = [\n",
    "    url(r'^polls/', include(polls_patterns)),\n",
    "]"
   ]
  },
  {
   "cell_type": "markdown",
   "metadata": {},
   "source": [
    "This will include the nominated URL patterns into the given application namespace.\n",
    "\n",
    "The instance namespace can be specified using the namespace argument to include().\n",
    "If the instance namespace is not specified, it will default to the included URLconf’s application namespace. This means it will also be the default instance for that namespace."
   ]
  },
  {
   "cell_type": "markdown",
   "metadata": {},
   "source": [
    "# serve static files "
   ]
  },
  {
   "cell_type": "code",
   "execution_count": null,
   "metadata": {
    "collapsed": true
   },
   "outputs": [],
   "source": [
    "# Use static() to add url mapping to serve static files during development (only)\n",
    "from django.conf import settings\n",
    "from django.conf.urls.static import static\n",
    "\n",
    "urlpatterns += static(settings.STATIC_URL, document_root=settings.STATIC_ROOT)"
   ]
  },
  {
   "cell_type": "markdown",
   "metadata": {},
   "source": [
    "# EXP4"
   ]
  },
  {
   "cell_type": "markdown",
   "metadata": {},
   "source": [
    "catalog/ — The home/index page.\n",
    "\n",
    "catalog/books/ — The list of all books.\n",
    "\n",
    "catalog/book/<id> — The detail view for the specific book with a field primary key of <id> (the default). \n",
    "So for example, \n",
    "    \n",
    "    /catalog/book/3, for the third book added.\n"
   ]
  },
  {
   "cell_type": "code",
   "execution_count": null,
   "metadata": {},
   "outputs": [],
   "source": [
    "urlpatterns = [\n",
    "    url(r'^catalog/$', views.index, name='index'),\n",
    "    url(r'^catalog/books/$', views.BookListView.as_view(), name='books'),\n",
    "    url(r'^catalog/book/(?P<pk>\\d+)$', views.BookDetailView.as_view(), name='book-detail'),\n",
    "]"
   ]
  },
  {
   "cell_type": "markdown",
   "metadata": {},
   "source": [
    "# EXP5"
   ]
  },
  {
   "cell_type": "markdown",
   "metadata": {},
   "source": [
    "In our poll application, we’ll have the following four views:\n",
    "\n",
    "Question “index” page – displays the latest few questions.\n",
    "\n",
    "Question “detail” page – displays a question text, with no results but with a form to vote.\n",
    "\n",
    "Question “results” page – displays results for a particular question.\n",
    "\n",
    "Vote action – handles voting for a particular choice in a particular question."
   ]
  },
  {
   "cell_type": "code",
   "execution_count": null,
   "metadata": {},
   "outputs": [],
   "source": [
    "urlpatterns = [\n",
    "    # ex: /polls/\n",
    "    url(r'^polls/$', views.index, name='index'),\n",
    "    # ex: /polls/5/\n",
    "    url(r'^polls/(?P<question_id>[0-9]+)/$', views.detail, name='detail'),\n",
    "    # ex: /polls/5/results/\n",
    "    url(r'^polls/(?P<question_id>[0-9]+)/results/$', views.results, name='results'),\n",
    "    # ex: /polls/5/vote/\n",
    "    url(r'^polls/(?P<question_id>[0-9]+)/vote/$', views.vote, name='vote'),\n",
    "]"
   ]
  }
 ],
 "metadata": {
  "kernelspec": {
   "display_name": "Python 3",
   "language": "python",
   "name": "python3"
  },
  "language_info": {
   "codemirror_mode": {
    "name": "ipython",
    "version": 3
   },
   "file_extension": ".py",
   "mimetype": "text/x-python",
   "name": "python",
   "nbconvert_exporter": "python",
   "pygments_lexer": "ipython3",
   "version": "3.5.3"
  }
 },
 "nbformat": 4,
 "nbformat_minor": 2
}
