{
 "cells": [
  {
   "cell_type": "markdown",
   "metadata": {},
   "source": [
    "# Django UnChained\n"
   ]
  },
  {
   "cell_type": "markdown",
   "metadata": {},
   "source": [
    "<img src=\"images/django.jpg\">"
   ]
  },
  {
   "cell_type": "markdown",
   "metadata": {},
   "source": [
    "# Setup"
   ]
  },
  {
   "cell_type": "markdown",
   "metadata": {},
   "source": [
    "## Getting started with Django\n",
    "\n",
    "1. Django Project: \n",
    "    https://www.djangoproject.com\n",
    "2. Django documentation:\n",
    "    https://docs.djangoproject.com/en/1.11/\n",
    "3. How to get Django:\n",
    "    https://www.djangoproject.com/download/\n",
    "    \n",
    "## Sites Using Django:\n",
    "1. https://disqus.com\n",
    "2. https://www.macfound.org\n",
    "3. https://www.instagram.com\n",
    "4. https://www.mozilla.org/en-US/\n",
    "5. https://www.pinterest.com\n",
    "6. https://www.openstack.org\n",
    "7. http://www.nationalgeographic.com\n",
    "\n",
    "    \n",
    "## Install Django\n",
    ">pip install Django\n"
   ]
  },
  {
   "cell_type": "markdown",
   "metadata": {},
   "source": [
    "<img src=\"https://www.djangoproject.com/s/img/release-roadmap.e844db08610e.png\">"
   ]
  },
  {
   "cell_type": "markdown",
   "metadata": {},
   "source": [
    "## Verifying\n",
    "\n"
   ]
  },
  {
   "cell_type": "code",
   "execution_count": null,
   "metadata": {
    "collapsed": true
   },
   "outputs": [],
   "source": [
    "import django\n",
    "print(django.get_version())"
   ]
  }
 ],
 "metadata": {
  "kernelspec": {
   "display_name": "Python 3",
   "language": "python",
   "name": "python3"
  },
  "language_info": {
   "codemirror_mode": {
    "name": "ipython",
    "version": 3
   },
   "file_extension": ".py",
   "mimetype": "text/x-python",
   "name": "python",
   "nbconvert_exporter": "python",
   "pygments_lexer": "ipython3",
   "version": "3.5.3"
  }
 },
 "nbformat": 4,
 "nbformat_minor": 2
}
