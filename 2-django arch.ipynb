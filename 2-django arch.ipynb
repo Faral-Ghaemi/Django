{
 "cells": [
  {
   "cell_type": "markdown",
   "metadata": {},
   "source": [
    "# Django UnChained\n",
    "<img src=\"images/django.jpg\">"
   ]
  },
  {
   "cell_type": "markdown",
   "metadata": {},
   "source": [
    "# Django Architecture"
   ]
  },
  {
   "cell_type": "markdown",
   "metadata": {},
   "source": [
    "<img src=\"images/digram.png\">\n",
    "<img src=\"https://mdn.mozillademos.org/files/13931/basic-django.png\">"
   ]
  },
  {
   "cell_type": "markdown",
   "metadata": {},
   "source": [
    "## models.py"
   ]
  },
  {
   "cell_type": "code",
   "execution_count": null,
   "metadata": {
    "collapsed": true
   },
   "outputs": [],
   "source": [
    "from django.db import models\n",
    "\n",
    "class Reporter(models.Model):\n",
    "    full_name = models.CharField(max_length=70)\n",
    "\n",
    "    def __str__(self):              # __unicode__ on Python 2\n",
    "        return self.full_name\n",
    "\n",
    "class Article(models.Model):\n",
    "    pub_date = models.DateField()\n",
    "    headline = models.CharField(max_length=200)\n",
    "    content = models.TextField()\n",
    "    reporter = models.ForeignKey(Reporter, on_delete=models.CASCADE)\n",
    "\n",
    "    def __str__(self):              # __unicode__ on Python 2\n",
    "        return self.headline"
   ]
  },
  {
   "cell_type": "markdown",
   "metadata": {},
   "source": [
    "## template.html"
   ]
  },
  {
   "cell_type": "code",
   "execution_count": null,
   "metadata": {
    "collapsed": true
   },
   "outputs": [],
   "source": [
    "{% extends \"base.html\" %}\n",
    "\n",
    "{% block title %}Articles for {{ year }}{% endblock %}\n",
    "\n",
    "{% block content %}\n",
    "<h1>Articles for {{ year }}</h1>\n",
    "\n",
    "{% for article in article_list %}\n",
    "    <p>{{ article.headline }}</p>\n",
    "    <p>By {{ article.reporter.full_name }}</p>\n",
    "    <p>Published {{ article.pub_date|date:\"F j, Y\" }}</p>\n",
    "{% endfor %}\n",
    "{% endblock %}"
   ]
  },
  {
   "cell_type": "markdown",
   "metadata": {},
   "source": [
    "## urls.py"
   ]
  },
  {
   "cell_type": "code",
   "execution_count": null,
   "metadata": {
    "collapsed": true
   },
   "outputs": [],
   "source": [
    "from django.conf.urls import url\n",
    "\n",
    "from . import views\n",
    "\n",
    "urlpatterns = [\n",
    "    url(r'^articles/([0-9]{4})/$', views.year_archive),\n",
    "    url(r'^articles/([0-9]{4})/([0-9]{2})/$', views.month_archive),\n",
    "    url(r'^articles/([0-9]{4})/([0-9]{2})/([0-9]+)/$', views.article_detail),\n",
    "]"
   ]
  },
  {
   "cell_type": "markdown",
   "metadata": {},
   "source": [
    "## views.py"
   ]
  },
  {
   "cell_type": "code",
   "execution_count": null,
   "metadata": {
    "collapsed": true
   },
   "outputs": [],
   "source": [
    "from django.shortcuts import render\n",
    "\n",
    "from .models import Article\n",
    "\n",
    "def year_archive(request, year):\n",
    "    a_list = Article.objects.filter(pub_date__year=year)\n",
    "    context = {'year': year, 'article_list': a_list}\n",
    "    return render(request, 'news/year_archive.html', context)"
   ]
  },
  {
   "cell_type": "markdown",
   "metadata": {},
   "source": [
    "<img src=\"images/digram.png\">"
   ]
  },
  {
   "cell_type": "code",
   "execution_count": null,
   "metadata": {
    "collapsed": true
   },
   "outputs": [],
   "source": []
  }
 ],
 "metadata": {
  "kernelspec": {
   "display_name": "Python 3",
   "language": "python",
   "name": "python3"
  },
  "language_info": {
   "codemirror_mode": {
    "name": "ipython",
    "version": 3
   },
   "file_extension": ".py",
   "mimetype": "text/x-python",
   "name": "python",
   "nbconvert_exporter": "python",
   "pygments_lexer": "ipython3",
   "version": "3.6.1"
  }
 },
 "nbformat": 4,
 "nbformat_minor": 2
}
