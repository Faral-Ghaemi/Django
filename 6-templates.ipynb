{
 "cells": [
  {
   "cell_type": "markdown",
   "metadata": {},
   "source": [
    "# Django UnChained\n",
    "\n",
    "<img src=\"images/django.jpg\">\n",
    "\n",
    "# Template\n"
   ]
  },
  {
   "cell_type": "markdown",
   "metadata": {},
   "source": [
    "Being a web framework, Django needs a convenient way to generate HTML dynamically. The most common approach relies on templates. A template contains the static parts of the desired HTML output as well as some special syntax describing how dynamic content will be inserted. For a hands-on example of creating HTML pages with templates, see Tutorial 3.\n",
    "\n",
    "A Django project can be configured with one or several template engines (or even zero if you don’t use templates). Django ships built-in backends for its own template system, creatively called the Django template language (DTL), and for the popular alternative Jinja2. Backends for other template languages may be available from third-parties.\n",
    "\n",
    "Django defines a standard API for loading and rendering templates regardless of the backend. Loading consists of finding the template for a given identifier and preprocessing it, usually compiling it to an in-memory representation. Rendering means interpolating the template with context data and returning the resulting string.\n",
    "\n",
    "The Django template language is Django’s own template system. Until Django 1.8 it was the only built-in option available. It’s a good template library even though it’s fairly opinionated and sports a few idiosyncrasies. If you don’t have a pressing reason to choose another backend, you should use the DTL, especially if you’re writing a pluggable application and you intend to distribute templates. Django’s contrib apps that include templates, like django.contrib.admin, use the DTL."
   ]
  },
  {
   "cell_type": "markdown",
   "metadata": {},
   "source": [
    "# Usage\n",
    "\n",
    "The django.template.loader module defines two functions to load templates.\n",
    "\n",
    "This function loads the template with the given name and returns a Template object.\n",
    "\n"
   ]
  },
  {
   "cell_type": "code",
   "execution_count": null,
   "metadata": {},
   "outputs": [],
   "source": [
    "get_template(template_name, using=None)"
   ]
  },
  {
   "cell_type": "markdown",
   "metadata": {},
   "source": [
    "\n",
    "select_template() is just like get_template(), except it takes a list of template names. It tries each name in order and returns the first template that exists."
   ]
  },
  {
   "cell_type": "code",
   "execution_count": null,
   "metadata": {},
   "outputs": [],
   "source": [
    "select_template(template_name_list, using=None)"
   ]
  },
  {
   "cell_type": "markdown",
   "metadata": {},
   "source": [
    "## Variables\n",
    "\n",
    "A variable outputs a value from the context, which is a dict-like object mapping keys to values.\n",
    "\n",
    "Variables are surrounded by {{ and }} like this:\n",
    "\n"
   ]
  },
  {
   "cell_type": "code",
   "execution_count": null,
   "metadata": {},
   "outputs": [],
   "source": [
    "My first name is {{ first_name }}. My last name is {{ last_name }}\n",
    "\n",
    "{'first_name': 'John', 'last_name': 'Doe'}\n",
    "\n",
    "My first name is John. My last name is Doe."
   ]
  },
  {
   "cell_type": "markdown",
   "metadata": {},
   "source": [
    "## Tags\n",
    "\n",
    "Tags provide arbitrary logic in the rendering process.\n",
    "\n",
    "This definition is deliberately vague. For example, a tag can output content, serve as a control structure e.g. an “if” statement or a “for” loop, grab content from a database, or even enable access to other template tags.\n",
    "\n",
    "Tags are surrounded by {% and %} like this:"
   ]
  },
  {
   "cell_type": "code",
   "execution_count": null,
   "metadata": {},
   "outputs": [],
   "source": [
    "{% if user.is_authenticated %}Hello, {{ user.username }}.{% endif %}"
   ]
  },
  {
   "cell_type": "code",
   "execution_count": null,
   "metadata": {},
   "outputs": [],
   "source": [
    "{% if is_logged_in %}           \n",
    "    Thanks for logging in!\n",
    "{% else %}           \n",
    "    Please log in.\n",
    "{% endif %}"
   ]
  },
  {
   "cell_type": "code",
   "execution_count": null,
   "metadata": {},
   "outputs": [],
   "source": [
    "{% if a == b or c == d and e %}"
   ]
  },
  {
   "cell_type": "code",
   "execution_count": null,
   "metadata": {},
   "outputs": [],
   "source": [
    "{% for o in some_list %}\n",
    "    <tr class=\"{% cycle rowvalue1 rowvalue2 %}\">\n",
    "        ...\n",
    "    </tr>\n",
    "{% endfor %}"
   ]
  },
  {
   "cell_type": "markdown",
   "metadata": {},
   "source": [
    "## Filters\n",
    "\n",
    "Filters transform the values of variables and tag arguments.\n",
    "\n",
    "They look like this:\n",
    "\n"
   ]
  },
  {
   "cell_type": "code",
   "execution_count": null,
   "metadata": {},
   "outputs": [],
   "source": [
    "{{ my_date|date:\"Y-m-d\" }}"
   ]
  },
  {
   "cell_type": "code",
   "execution_count": null,
   "metadata": {},
   "outputs": [],
   "source": [
    "{{ django |title }}\n",
    "\n",
    "{'django': 'the web framework for perfectionists with deadlines'}\n",
    "\n",
    "The Web Framework For Perfectionists With Deadlines"
   ]
  },
  {
   "cell_type": "markdown",
   "metadata": {},
   "source": [
    "# template, render, context"
   ]
  },
  {
   "cell_type": "code",
   "execution_count": null,
   "metadata": {},
   "outputs": [],
   "source": [
    "from django.template import loader, Context\n",
    "\n",
    "\n",
    "template = loader.get_template('template1.html')\n",
    "\n",
    "Context = Context({\n",
    "        'app': 'My app',\n",
    "        'user': request.user,\n",
    "        'ip_address': request.META['REMOTE_ADDR'],\n",
    "        'message': 'I am view 1.'\n",
    "    })\n",
    "\n",
    "template.render(Context)"
   ]
  },
  {
   "cell_type": "markdown",
   "metadata": {},
   "source": [
    "# templates"
   ]
  },
  {
   "cell_type": "code",
   "execution_count": null,
   "metadata": {},
   "outputs": [],
   "source": [
    "app/templates/app\n",
    "template = loader.get_template('app/index.html')\n"
   ]
  },
  {
   "cell_type": "markdown",
   "metadata": {},
   "source": [
    "## shortcut"
   ]
  },
  {
   "cell_type": "code",
   "execution_count": null,
   "metadata": {},
   "outputs": [],
   "source": [
    "\n",
    "from django.shortcuts import render\n",
    "\n",
    "render(request, \n",
    "      'template.html',\n",
    "      {'message': 'I am view 1.'},\n",
    "      )"
   ]
  },
  {
   "cell_type": "markdown",
   "metadata": {},
   "source": [
    "# Serving Static files"
   ]
  },
  {
   "cell_type": "code",
   "execution_count": null,
   "metadata": {},
   "outputs": [],
   "source": [
    "MEDIA_URL=   '/media/'\n",
    "STATIC_URL = '/static/'\n",
    "\n",
    "from django.conf import settings\n",
    "from django.conf.urls.static import static\n",
    "\n",
    "urlpatterns += static(settings.STATIC_URL, document_root=settings.STATIC_ROOT)"
   ]
  },
  {
   "cell_type": "code",
   "execution_count": null,
   "metadata": {},
   "outputs": [],
   "source": [
    "app/static/app\n",
    "http://127.0.0.1:8000/static/app/css.css"
   ]
  },
  {
   "cell_type": "markdown",
   "metadata": {},
   "source": [
    "# URLs"
   ]
  },
  {
   "cell_type": "code",
   "execution_count": null,
   "metadata": {},
   "outputs": [],
   "source": [
    "{% load static %}\n",
    "<link rel=\"stylesheet\" href=\"{% static 'css/styles.css' %}\">"
   ]
  },
  {
   "cell_type": "code",
   "execution_count": null,
   "metadata": {},
   "outputs": [],
   "source": [
    "<a href=\"{% url 'app_name:url_name' %}\">\n",
    "    Home\n",
    "</a>"
   ]
  },
  {
   "cell_type": "markdown",
   "metadata": {},
   "source": [
    "# generic templates"
   ]
  },
  {
   "cell_type": "code",
   "execution_count": null,
   "metadata": {},
   "outputs": [],
   "source": [
    "<!DOCTYPE html>\n",
    "<html lang=\"en\">\n",
    "\n",
    "    <head>\n",
    "       {% block title %}\n",
    "            <title>\n",
    "                Local Library\n",
    "            </title>\n",
    "       {% endblock %}\n",
    "    \n",
    "    </head>\n",
    "\n",
    "    <body>\n",
    "    \n",
    "       {% block sidebar %}\n",
    "            <!-- insert default navigation text for every page -->\n",
    "       {% endblock %}\n",
    "    \n",
    "       {% block content %}\n",
    "            <!-- default content text (typically empty) -->\n",
    "       {% endblock %}\n",
    "    \n",
    "    </body>\n",
    "    \n",
    "</html>"
   ]
  },
  {
   "cell_type": "code",
   "execution_count": null,
   "metadata": {},
   "outputs": [],
   "source": [
    "{% extends \"base_generic.html\" %}\n",
    "\n",
    "{% block content %}\n",
    "    \n",
    "    <h1>Local Library Home</h1>\n",
    "    \n",
    "    <p>Welcome to <em>LocalLibrary</em>, blah blah...</p>\n",
    "    \n",
    "{% endblock %}"
   ]
  }
 ],
 "metadata": {
  "kernelspec": {
   "display_name": "Python 3",
   "language": "python",
   "name": "python3"
  },
  "language_info": {
   "codemirror_mode": {
    "name": "ipython",
    "version": 3
   },
   "file_extension": ".py",
   "mimetype": "text/x-python",
   "name": "python",
   "nbconvert_exporter": "python",
   "pygments_lexer": "ipython3",
   "version": "3.5.3"
  }
 },
 "nbformat": 4,
 "nbformat_minor": 2
}
