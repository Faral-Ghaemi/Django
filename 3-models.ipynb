{
 "cells": [
  {
   "cell_type": "markdown",
   "metadata": {},
   "source": [
    "# Django UnChained\n",
    "<img src=\"images/django.jpg\">\n",
    "# Models and Databases"
   ]
  },
  {
   "cell_type": "markdown",
   "metadata": {},
   "source": [
    "## What is a model \n",
    "\n",
    "1. A model is the single, definitive source of data about your data. \n",
    "2. It contains the essential fields and behaviors of the data you’re storing.\n",
    "3. Generally, each model maps to a single database table.\n",
    "4. Each model is a Python class that subclasses django.db.models.Model.\n",
    "5. Each attribute of the model represents a database field.\n",
    "  \n",
    "## EXP:\n",
    "\n",
    "> first_name and last_name are fields of the model.\n",
    "\n",
    "> Each field is specified as a class attribute, and each attribute maps to a database column."
   ]
  },
  {
   "cell_type": "code",
   "execution_count": null,
   "metadata": {
    "collapsed": true
   },
   "outputs": [],
   "source": [
    "from django.db import models\n",
    "\n",
    "class Person(models.Model):\n",
    "        first_name = models.CharField(max_length=30, null=True)\n",
    "        last_name = models.CharField(max_length=30)        "
   ]
  },
  {
   "cell_type": "markdown",
   "metadata": {},
   "source": [
    "## SQL "
   ]
  },
  {
   "cell_type": "code",
   "execution_count": null,
   "metadata": {
    "collapsed": true
   },
   "outputs": [],
   "source": [
    "CREATE TABLE myapp_person (\n",
    "\"id\" serial NOT NULL PRIMARY KEY,\n",
    "\"first_name\" varchar(30) NOT NULL,\n",
    "\"last_name\" varchar(30) NOT NULL\n",
    ");"
   ]
  },
  {
   "cell_type": "markdown",
   "metadata": {},
   "source": [
    " > The name of the table, myapp_person, is automatically derived from some model metadata."
   ]
  },
  {
   "cell_type": "markdown",
   "metadata": {},
   "source": [
    " > It can be overridden An id field is added automatically, but this behavior can be overridden."
   ]
  },
  {
   "cell_type": "markdown",
   "metadata": {},
   "source": [
    "## Fields\n",
    "\n",
    "The most important part of a model – and the only required part of a model –\n",
    "    is the list of database fields it defines. Fields are specified by class attributes.\n",
    "    Be careful not to choose field names that conflict with the models API like clean, save, or delete.\n",
    "\n",
    "\n",
    "## Example:"
   ]
  },
  {
   "cell_type": "code",
   "execution_count": null,
   "metadata": {
    "collapsed": true
   },
   "outputs": [],
   "source": [
    "from django.db import models\n",
    "\n",
    "class Musician(models.Model):\n",
    "    first_name = models.CharField(max_length=50)\n",
    "    last_name = models.CharField(max_length=50)\n",
    "    instrument = models.CharField(max_length=100)\n",
    "\n",
    "class Album(models.Model):\n",
    "    artist = models.ForeignKey(Musician, on_delete=models.CASCADE)\n",
    "    name = models.CharField(max_length=100)\n",
    "    release_date = models.DateField()\n",
    "    num_stars = models.IntegerField()"
   ]
  },
  {
   "cell_type": "markdown",
   "metadata": {},
   "source": [
    "## Field types:\n",
    "\n",
    "    Each field in your model should be an instance of the appropriate Field class.\n",
    "    Django uses the field class types to determine a few things:\n",
    "\n",
    "        The column type, which tells the database what kind of data to store (e.g. INTEGER, VARCHAR, TEXT).\n",
    "        The default HTML widget to use when rendering a form field (e.g. <input type=\"text\">, <select>).\n",
    "        The minimal validation requirements, used in Django’s admin and in automatically-generated forms.\n",
    "  Django ships with dozens of built-in field types; you can find the complete list in the model field reference.\n",
    "        You can easily write your own fields if Django’s built-in ones don’t do the trick.\n",
    "        \n",
    "## Field options\n",
    "  Each field takes a certain set of field-specific arguments.\n",
    "  For example, CharField (and its subclasses) require a max_length argument\n",
    "  which specifies the size of the VARCHAR database field used to store the data.\n",
    "\n",
    "  There’s also a set of common arguments available to all field types.\n",
    "  All are optional.\n",
    "\n",
    "#### null\n",
    ">If True, Django will store empty values as NULL in the database. Default is False.\n",
    "\n",
    "#### blank\n",
    ">If True, the field is allowed to be blank. Default is False.\n",
    "        Note that this is different than null.\n",
    "        null is purely database-related, whereas blank is validation-related.\n",
    "        If a field has blank=True, form validation will allow entry of an empty value.\n",
    "        If a field has blank=False, the field will be required.\n",
    "\n",
    "#### choices\n",
    "> An iterable (e.g., a list or tuple) of 2-tuples to use as choices for this field.\n",
    "            If this is given, the default form widget will be a select box\n",
    "            instead of the standard text field and will limit choices to the choices given.\n",
    "            The first element in each tuple is the value that will be stored in the database.\n",
    "            The second element will be displayed by the default form widget or in a ModelChoiceField.\n",
    "            Given a model instance, the display value for a choices field can be accessed using the get_FOO_display() method.\n",
    "  "
   ]
  },
  {
   "cell_type": "code",
   "execution_count": null,
   "metadata": {
    "collapsed": true
   },
   "outputs": [],
   "source": [
    "from django.db import models\n",
    "\n",
    "class Person(models.Model):\n",
    "    SHIRT_SIZES = (\n",
    "    ('S', 'Small'),\n",
    "    ('M', 'Medium'),\n",
    "    ('L', 'Large'),\n",
    "    )\n",
    "    name = models.CharField(max_length=60)\n",
    "    shirt_size = models.CharField(max_length=1, choices=SHIRT_SIZES,def)"
   ]
  },
  {
   "cell_type": "code",
   "execution_count": null,
   "metadata": {
    "collapsed": true
   },
   "outputs": [],
   "source": [
    ">>> p = Person(name=\"Fred Flintstone\", shirt_size=\"L\")\n",
    ">>> p.save()\n",
    ">>> p.shirt_size\n",
    "    'L'\n",
    ">>> p.get_shirt_size_display()\n",
    "    'Large'"
   ]
  },
  {
   "cell_type": "markdown",
   "metadata": {},
   "source": [
    "#### default\n",
    "\n",
    "> The default value for the field. This can be a value or a callable object.\n",
    "If callable it will be called every time a new object is created.\n",
    "\n",
    "#### help_text\n",
    "\n",
    "> Extra “help” text to be displayed with the form widget.\n",
    "It’s useful for documentation even if your field isn’t used on a form.\n",
    "\n",
    "#### primary_key\n",
    "\n",
    "> If True, this field is the primary key for the model.\n",
    "If you don’t specify primary_key=True for any fields in your model,\n",
    "Django will automatically add an IntegerField to hold the primary key,\n",
    "so you don’t need to set primary_key=True on any of your fields\n",
    "unless you want to override the default primary-key behavior.\n",
    "The primary key field is read-only.\n",
    "If you change the value of the primary key on an existing object and then save it,\n",
    "a new object will be created alongside the old one.\n",
    "By default, Django gives each model the following field:\n",
    "    id = models.AutoField(primary_key=True)\n",
    "\n",
    "#### unique\n",
    "\n",
    "> If True, this field must be unique throughout the table.\n",
    "\n",
    "#### Verbose field names\n",
    "> Each field type, except for ForeignKey, ManyToManyField and OneToOneField, takes an optional first positional argument – a verbose name. If the verbose name isn’t given, Django will automatically create it using the field’s attribute name, converting underscores to spaces.\n",
    "\n",
    "In this example, the verbose name is \"person's first name\":\n"
   ]
  },
  {
   "cell_type": "code",
   "execution_count": null,
   "metadata": {
    "collapsed": true
   },
   "outputs": [],
   "source": [
    "first_name = models.CharField(\"person's first name\", max_length=30)"
   ]
  },
  {
   "cell_type": "markdown",
   "metadata": {},
   "source": [
    "In this example, the verbose name is \"first name\":"
   ]
  },
  {
   "cell_type": "code",
   "execution_count": null,
   "metadata": {
    "collapsed": true
   },
   "outputs": [],
   "source": [
    "first_name = models.CharField(max_length=30)"
   ]
  },
  {
   "cell_type": "markdown",
   "metadata": {},
   "source": [
    "## relationships\n",
    "\n",
    "\n",
    "    Clearly, the power of relational databases lies in relating tables to each other.\n",
    "    Django offers ways to define the three most common types of database relationships:\n",
    "    many-to-one, many-to-many and one-to-one.\n",
    "    \n",
    "#### Many-to-one relationships:\n",
    "\n",
    "<img src=\"http://learnmongodbthehardway.com/images/originals/one-to-many.png\">\n",
    "<img src=\"http://www.teach-ict.com/as_a2_ict_new/ocr/AS_G061/315_database_concepts/attributes_entities/miniweb/images/one2many.jpg\">\n",
    ">To define a many-to-one relationship, use django.db.models.ForeignKey.\n",
    "    You use it just like any other Field type: by including it as a class attribute of your model.\n",
    "    ForeignKey requires a positional argument: the class to which the model is related.\n",
    "    For example, if a Car model has a Manufacturer –\n",
    "    that is, a Manufacturer makes multiple cars but each Car only has one Manufacturer –\n",
    "    use the following definitions:"
   ]
  },
  {
   "cell_type": "code",
   "execution_count": null,
   "metadata": {
    "collapsed": true
   },
   "outputs": [],
   "source": [
    "from django.db import models\n",
    "\n",
    "class Manufacturer(models.Model):\n",
    "    # ...\n",
    "    pass\n",
    "\n",
    "class Car(models.Model):\n",
    "    manufacturer = models.ForeignKey(Manufacturer, on_delete=models.CASCADE)\n",
    "    # ..."
   ]
  },
  {
   "cell_type": "markdown",
   "metadata": {},
   "source": [
    "<img src=\"https://www.599cd.com/site/courselist/access2010/expert/x1/images/defaul1.jpg\">"
   ]
  },
  {
   "cell_type": "markdown",
   "metadata": {},
   "source": [
    "#### Many-to-many relationships:\n",
    "\n",
    "<img src=\"http://learnmongodbthehardway.com/images/originals/many-to-many.png\">\n",
    "<img src= \"https://upload.wikimedia.org/wikipedia/commons/thumb/c/c4/CPT-Databases-ManytoMany.svg/460px-CPT-Databases-ManytoMany.svg.png\">\n",
    ">To define a many-to-many relationship, use ManyToManyField.\n",
    "    You use it just like any other Field type: by including it as a class attribute of your model.\n",
    "    ManyToManyField requires a positional argument: the class to which the model is related.\n",
    "    For example, if a Pizza has multiple Topping objects –\n",
    "    that is, a Topping can be on multiple pizzas and each Pizza has multiple toppings. \n",
    "    \n",
    ">It’s suggested, but not required, that the name of a ManyToManyField\n",
    "    (toppings in the example above) be a plural describing the set of related model objects.\n",
    "\n",
    ">    It doesn’t matter which model has the ManyToManyField,\n",
    "    but you should only put it in one of the models – not both.\n",
    "\n",
    ">    Generally, ManyToManyField instances should go in the object that’s going to be edited on a form.\n",
    "    In the above example, toppings is in Pizza (rather than Topping having a pizzas ManyToManyField )\n",
    "    because it’s more natural to think about a pizza having toppings than a topping being on multiple pizzas.\n",
    "    The way it’s set up above, the Pizza form would let users select the toppings."
   ]
  },
  {
   "cell_type": "code",
   "execution_count": null,
   "metadata": {
    "collapsed": true
   },
   "outputs": [],
   "source": [
    "from django.db import models\n",
    "\n",
    "class Topping(models.Model):\n",
    "    # ...\n",
    "    pass\n",
    "\n",
    "class Pizza(models.Model):\n",
    "    # ...\n",
    "    toppings = models.ManyToManyField(Topping)"
   ]
  },
  {
   "cell_type": "markdown",
   "metadata": {},
   "source": [
    "#### One-to-one relationships\n",
    "\n",
    "<img src=\"http://learnmongodbthehardway.com/images/originals/one-to-one.png\">\n",
    "<img src=\"http://www.teach-ict.com/as_a2_ict_new/ocr/AS_G061/315_database_concepts/attributes_entities/miniweb/images/one2one.jpg\">\n",
    ">    To define a one-to-one relationship, use OneToOneField.\n",
    "    You use it just like any other Field type: by including it as a class attribute of your model.\n",
    "    This is most useful on the primary key of an object when that object “extends” another object in some way.\n",
    "    OneToOneField requires a positional argument: the class to which the model is related.\n",
    "    For example, if you were building a database of “places”,\n",
    "    you would build pretty standard stuff such as address, phone number, etc. in the database.\n",
    "    Then, if you wanted to build a database of restaurants on top of the places,\n",
    "    instead of repeating yourself and replicating those fields in the Restaurant model,\n",
    "    you could make Restaurant have a OneToOneField to Place (because a restaurant “is a” place;\n",
    "    in fact, to handle this you’d typically use inheritance, which involves an implicit one-to-one relation)."
   ]
  },
  {
   "cell_type": "code",
   "execution_count": null,
   "metadata": {
    "collapsed": true
   },
   "outputs": [],
   "source": [
    "class Employee(models.Model):\n",
    "    first_name = models.CharField(max_length=255)\n",
    "    last_name = models.CharField(max_length=255)\n",
    "    position = models.CharField(max_length=255)\n",
    "    office = models.CharField(max_length=20)\n",
    "    department = models.ForeignKey(Department, related_name='employees')\n",
    "    salary = models.OneToOneField(Salary)\n",
    "    pair_programmer = models.OneToOneField('self')"
   ]
  },
  {
   "cell_type": "markdown",
   "metadata": {},
   "source": [
    "## Models across files:\n",
    "\n",
    "It’s perfectly OK to relate a model to one from another app.\n",
    "    To do this, import the related model at the top of the file where your model is defined.\n",
    "    Then, just refer to the other model class wherever needed. For example:"
   ]
  },
  {
   "cell_type": "code",
   "execution_count": null,
   "metadata": {
    "collapsed": true
   },
   "outputs": [],
   "source": [
    "from django.db import models\n",
    "from geography.models import ZipCode\n",
    "\n",
    "class Restaurant(models.Model):\n",
    "    # ...\n",
    "    zip_code = models.ForeignKey(\n",
    "        ZipCode,\n",
    "        on_delete=models.SET_NULL,\n",
    "        blank=True,\n",
    "        null=True,\n",
    "    )"
   ]
  },
  {
   "cell_type": "markdown",
   "metadata": {},
   "source": [
    "## run a model"
   ]
  },
  {
   "cell_type": "markdown",
   "metadata": {},
   "source": [
    "### 1.start a project"
   ]
  },
  {
   "cell_type": "code",
   "execution_count": null,
   "metadata": {
    "collapsed": true
   },
   "outputs": [],
   "source": [
    "django-admin startproject project_name"
   ]
  },
  {
   "cell_type": "markdown",
   "metadata": {},
   "source": [
    "### 2.start an app"
   ]
  },
  {
   "cell_type": "code",
   "execution_count": null,
   "metadata": {
    "collapsed": true
   },
   "outputs": [],
   "source": [
    "python manage.py startapp app_name"
   ]
  },
  {
   "cell_type": "markdown",
   "metadata": {},
   "source": [
    "### 3.add the app"
   ]
  },
  {
   "cell_type": "code",
   "execution_count": null,
   "metadata": {
    "collapsed": true
   },
   "outputs": [],
   "source": [
    "INSTALLED_APPS = [\n",
    "    #...\n",
    "    'myapp',\n",
    "    #...\n",
    "    ]"
   ]
  },
  {
   "cell_type": "markdown",
   "metadata": {},
   "source": [
    "### 4.write models"
   ]
  },
  {
   "cell_type": "code",
   "execution_count": null,
   "metadata": {
    "collapsed": true
   },
   "outputs": [],
   "source": [
    "from django.db import models\n",
    "from django.utils import timezone\n",
    "import datetime\n",
    "\n",
    "class Question(models.Model):\n",
    "    question_text = models.CharField(max_length=200)\n",
    "    pub_date = models.DateTimeField('date published')\n",
    "\n",
    "    def __str__(self):\n",
    "        return self.question_text\n",
    "\n",
    "class Choice(models.Model):\n",
    "    question = models.ForeignKey(Question, on_delete=models.CASCADE)\n",
    "    choice_text = models.CharField(max_length=200)\n",
    "    votes = models.IntegerField(default=0)\n",
    "\n",
    "    def __str__(self):\n",
    "        return self.choice_text\n"
   ]
  },
  {
   "cell_type": "markdown",
   "metadata": {},
   "source": [
    "### 5.save models on database"
   ]
  },
  {
   "cell_type": "code",
   "execution_count": null,
   "metadata": {
    "collapsed": true
   },
   "outputs": [],
   "source": [
    "python manage.py makemigrations app_name\n",
    "python manage.py migrate"
   ]
  },
  {
   "cell_type": "markdown",
   "metadata": {},
   "source": [
    "### 6.explore with Sqlite and add items"
   ]
  },
  {
   "cell_type": "markdown",
   "metadata": {},
   "source": [
    "# Making queries"
   ]
  },
  {
   "cell_type": "code",
   "execution_count": null,
   "metadata": {
    "collapsed": true
   },
   "outputs": [],
   "source": [
    "python manage.py shell"
   ]
  },
  {
   "cell_type": "code",
   "execution_count": null,
   "metadata": {
    "collapsed": true
   },
   "outputs": [],
   "source": [
    "# Import the model classes we just wrote.\n",
    "from polls.models import Question, Choice"
   ]
  },
  {
   "cell_type": "markdown",
   "metadata": {},
   "source": [
    "# SQL SELECT Statement"
   ]
  },
  {
   "cell_type": "code",
   "execution_count": null,
   "metadata": {
    "collapsed": true
   },
   "outputs": [],
   "source": [
    "SELECT * FROM table_name;\n",
    "SELECT CustomerName, City FROM Customers;"
   ]
  },
  {
   "cell_type": "markdown",
   "metadata": {},
   "source": [
    "#### Django"
   ]
  },
  {
   "cell_type": "code",
   "execution_count": null,
   "metadata": {
    "collapsed": true
   },
   "outputs": [],
   "source": [
    "Question.objects.all()"
   ]
  },
  {
   "cell_type": "code",
   "execution_count": null,
   "metadata": {
    "collapsed": true
   },
   "outputs": [],
   "source": [
    "# Now it has an ID. Note that this might say \"1L\" instead of \"1\", depending\n",
    "# on which database you're using. That's no biggie; it just means your\n",
    "# database backend prefers to return integers as Python long integer\n",
    "# objects.\n",
    "q.id\n",
    "\n",
    "# Access model field values via Python attributes.\n",
    "q.question_text\n",
    "q.pub_date"
   ]
  },
  {
   "cell_type": "markdown",
   "metadata": {},
   "source": [
    "# SQL INSERT INTO Statement"
   ]
  },
  {
   "cell_type": "code",
   "execution_count": null,
   "metadata": {
    "collapsed": true
   },
   "outputs": [],
   "source": [
    "INSERT INTO table_name\n",
    "VALUES (value1, value2, value3, ...);\n",
    "\n",
    "INSERT INTO Customers (CustomerName, ContactName, Address, City, PostalCode, Country)\n",
    "VALUES ('Cardinal', 'Tom B. Erichsen', 'Skagen 21', 'Stavanger', '4006', 'Norway');"
   ]
  },
  {
   "cell_type": "markdown",
   "metadata": {},
   "source": [
    "\n",
    "#### Django"
   ]
  },
  {
   "cell_type": "code",
   "execution_count": null,
   "metadata": {
    "collapsed": true
   },
   "outputs": [],
   "source": [
    "# Create a new Question.\n",
    "# Support for time zones is enabled in the default settings file, so\n",
    "# Django expects a datetime with tzinfo for pub_date. Use timezone.now()\n",
    "# instead of datetime.datetime.now() and it will do the right thing.\n",
    "from django.utils import timezone\n",
    "q = Question(question_text=\"What's new?\", pub_date=timezone.now())\n",
    "\n",
    "# Save the object into the database. You have to call save() explicitly.\n",
    "# This performs an INSERT SQL statement behind the scenes. \n",
    "# Django doesn’t hit the database until you explicitly call save().\n",
    "# The save() method has no return value.\n",
    "q.save()"
   ]
  },
  {
   "cell_type": "markdown",
   "metadata": {},
   "source": [
    "#### Saving ForeignKey and ManyToManyField fields"
   ]
  },
  {
   "cell_type": "code",
   "execution_count": null,
   "metadata": {
    "collapsed": true
   },
   "outputs": [],
   "source": [
    "from django.db import models\n",
    "\n",
    "class Blog(models.Model):\n",
    "    name = models.CharField(max_length=100)\n",
    "    tagline = models.TextField()\n",
    "\n",
    "    def __str__(self):              # __unicode__ on Python 2\n",
    "        return self.name\n",
    "\n",
    "class Author(models.Model):\n",
    "    name = models.CharField(max_length=200)\n",
    "    email = models.EmailField()\n",
    "\n",
    "    def __str__(self):              # __unicode__ on Python 2\n",
    "        return self.name\n",
    "\n",
    "class Entry(models.Model):\n",
    "    blog = models.ForeignKey(Blog, on_delete=models.CASCADE)\n",
    "    authors = models.ManyToManyField(Author)\n",
    "    headline = models.CharField(max_length=255)\n",
    "    body_text = models.TextField()\n",
    "    pub_date = models.DateField()\n",
    "    mod_date = models.DateField()\n",
    "    n_comments = models.IntegerField()\n",
    "    n_pingbacks = models.IntegerField()\n",
    "    rating = models.IntegerField()\n",
    "\n",
    "    def __str__(self):              # __unicode__ on Python 2\n",
    "        return self.headline"
   ]
  },
  {
   "cell_type": "markdown",
   "metadata": {},
   "source": [
    "#### Updating a ForeignKey field\n",
    "Updating a ForeignKey field works exactly the same way as saving a normal field – simply assign an object of the right type to the field in question. This example updates the blog attribute of an Entry instance entry, assuming appropriate instances of Entry and Blog are already saved to the database (so we can retrieve them below):"
   ]
  },
  {
   "cell_type": "code",
   "execution_count": null,
   "metadata": {
    "collapsed": true
   },
   "outputs": [],
   "source": [
    "from blog.models import Blog, Entry\n",
    "entry = Entry.objects.get(pk=1)\n",
    "cheese_blog = Blog.objects.get(name=\"Cheddar Talk\")\n",
    "entry.blog = cheese_blog\n",
    "entry.save()"
   ]
  },
  {
   "cell_type": "markdown",
   "metadata": {},
   "source": [
    "#### Updating a ManyToManyField\n",
    "Updating a ManyToManyField works a little differently – use the add() method on the field to add a record to the relation. This example adds the Author instance joe to the entry object:"
   ]
  },
  {
   "cell_type": "code",
   "execution_count": null,
   "metadata": {
    "collapsed": true
   },
   "outputs": [],
   "source": [
    "from blog.models import Author\n",
    "joe = Author.objects.create(name=\"Joe\")\n",
    "entry.authors.add(joe)"
   ]
  },
  {
   "cell_type": "markdown",
   "metadata": {
    "collapsed": true
   },
   "source": [
    "To add multiple records to a ManyToManyField in one go, include multiple arguments in the call to add(), like this:"
   ]
  },
  {
   "cell_type": "code",
   "execution_count": null,
   "metadata": {
    "collapsed": true
   },
   "outputs": [],
   "source": [
    "john = Author.objects.create(name=\"John\")\n",
    "paul = Author.objects.create(name=\"Paul\")\n",
    "george = Author.objects.create(name=\"George\")\n",
    "ringo = Author.objects.create(name=\"Ringo\")\n",
    "entry.authors.add(john, paul, george, ringo)"
   ]
  },
  {
   "cell_type": "markdown",
   "metadata": {},
   "source": [
    "#### SQL WHERE Clause"
   ]
  },
  {
   "cell_type": "code",
   "execution_count": null,
   "metadata": {
    "collapsed": true
   },
   "outputs": [],
   "source": [
    "SELECT * FROM Customers\n",
    "WHERE Country='Mexico';"
   ]
  },
  {
   "cell_type": "markdown",
   "metadata": {},
   "source": [
    "#### Django"
   ]
  },
  {
   "cell_type": "markdown",
   "metadata": {},
   "source": [
    "A QuerySet represents a collection of objects from your database. It can have zero, one or many filters. Filters narrow down the query results based on the given parameters. In SQL terms, a QuerySet equates to a SELECT statement, and a filter is a limiting clause such as WHERE or LIMIT."
   ]
  },
  {
   "cell_type": "code",
   "execution_count": null,
   "metadata": {
    "collapsed": true
   },
   "outputs": [],
   "source": [
    "Entry.objects.filter(pub_date__year=2006)\n",
    "Entry.objects.all().filter(pub_date__year=2006)"
   ]
  },
  {
   "cell_type": "markdown",
   "metadata": {},
   "source": [
    "#### Chaining filters\n",
    "The result of refining a QuerySet is itself a QuerySet, so it’s possible to chain refinements together. For example:"
   ]
  },
  {
   "cell_type": "code",
   "execution_count": null,
   "metadata": {
    "collapsed": true
   },
   "outputs": [],
   "source": [
    "Entry.objects.filter(\n",
    "...     headline__startswith='What'\n",
    "... ).exclude(\n",
    "...     pub_date__gte=datetime.date.today()\n",
    "... ).filter(\n",
    "...     pub_date__gte=datetime.date(2005, 1, 30)\n",
    "... )"
   ]
  },
  {
   "cell_type": "markdown",
   "metadata": {},
   "source": [
    "#### Retrieving a single object with get()\n",
    "\n",
    "filter() will always give you a QuerySet, even if only a single object matches the query - in this case, it will be a QuerySet containing a single element.\n",
    "\n",
    "If you know there is only one object that matches your query, you can use the get() method on a Manager which returns the object directly:"
   ]
  },
  {
   "cell_type": "code",
   "execution_count": null,
   "metadata": {
    "collapsed": true
   },
   "outputs": [],
   "source": [
    "one_entry = Entry.objects.get(pk=1)"
   ]
  },
  {
   "cell_type": "markdown",
   "metadata": {},
   "source": [
    "#### Field lookups\n",
    "Field lookups are how you specify the meat of an SQL WHERE clause. They’re specified as keyword arguments to the QuerySet methods filter(), exclude() and get().\n",
    "\n",
    "Basic lookups keyword arguments take the form field__lookuptype=value. (That’s a double-underscore). For example:"
   ]
  },
  {
   "cell_type": "markdown",
   "metadata": {},
   "source": [
    "#### SQL"
   ]
  },
  {
   "cell_type": "code",
   "execution_count": null,
   "metadata": {
    "collapsed": true
   },
   "outputs": [],
   "source": [
    "SELECT * FROM blog_entry WHERE pub_date <= '2006-01-01';\n",
    "SELECT ... WHERE headline = 'Cat bites dog';\n",
    "SELECT ... WHERE headline LIKE '%Lennon%';"
   ]
  },
  {
   "cell_type": "markdown",
   "metadata": {},
   "source": [
    "#### Django"
   ]
  },
  {
   "cell_type": "code",
   "execution_count": null,
   "metadata": {
    "collapsed": true
   },
   "outputs": [],
   "source": [
    "Entry.objects.filter(pub_date__lte='2006-01-01')\n",
    "Entry.objects.get(headline__exact=\"Cat bites dog\")\n",
    "Blog.objects.get(name__iexact=\"beatles blog\")\n",
    "Entry.objects.get(headline__contains='Lennon')\n",
    "Blog.objects.filter(entry__headline__contains='Lennon')\n",
    "\n",
    "# Get all blog entries with id > 14\n",
    "Blog.objects.filter(pk__gt=14)"
   ]
  },
  {
   "cell_type": "markdown",
   "metadata": {},
   "source": [
    "# INSERT  Statement"
   ]
  },
  {
   "cell_type": "code",
   "execution_count": null,
   "metadata": {},
   "outputs": [],
   "source": [
    "q = Question(question_text=\"What's new?\", pub_date=timezone.now())\n",
    "q.save()"
   ]
  },
  {
   "cell_type": "markdown",
   "metadata": {},
   "source": [
    "# SQL UPDATE Statement"
   ]
  },
  {
   "cell_type": "code",
   "execution_count": null,
   "metadata": {
    "collapsed": true
   },
   "outputs": [],
   "source": [
    "UPDATE Customers\n",
    "SET ContactName = 'Alfred Schmidt', City= 'Frankfurt'\n",
    "WHERE CustomerID = 1;"
   ]
  },
  {
   "cell_type": "markdown",
   "metadata": {},
   "source": [
    "#### Django"
   ]
  },
  {
   "cell_type": "code",
   "execution_count": null,
   "metadata": {
    "collapsed": true
   },
   "outputs": [],
   "source": [
    "q=Question.objects.all()[0]\n",
    "q.question_text = \"What's up?\"\n",
    "q.save()"
   ]
  },
  {
   "cell_type": "code",
   "execution_count": null,
   "metadata": {
    "collapsed": true
   },
   "outputs": [],
   "source": [
    "# Change every Entry so that it belongs to this Blog.\n",
    "Question.objects.all().update(question_text=b)"
   ]
  },
  {
   "cell_type": "markdown",
   "metadata": {},
   "source": [
    "# SQL DELETE Statement"
   ]
  },
  {
   "cell_type": "code",
   "execution_count": null,
   "metadata": {
    "collapsed": true
   },
   "outputs": [],
   "source": [
    "DELETE FROM Customers\n",
    "WHERE CustomerName='Alfreds Futterkiste';"
   ]
  },
  {
   "cell_type": "markdown",
   "metadata": {},
   "source": [
    "#### Django"
   ]
  },
  {
   "cell_type": "code",
   "execution_count": null,
   "metadata": {
    "collapsed": true
   },
   "outputs": [],
   "source": [
    "q=Question.objects.all()[0]\n",
    "q.delete()"
   ]
  },
  {
   "cell_type": "markdown",
   "metadata": {},
   "source": [
    "# SQL Joins\n",
    "\n",
    "Here are the different types of the JOINs in SQL:\n",
    "\n",
    ">(INNER) JOIN: Returns records that have matching values in both tables\n",
    "\n",
    ">LEFT (OUTER) JOIN: Return all records from the left table, and the matched records from the right table\n",
    "\n",
    ">RIGHT (OUTER) JOIN: Return all records from the right table, and the matched records from the left table\n",
    "\n",
    ">FULL (OUTER) JOIN: Return all records when there is a match in either left or right table\n",
    "\n",
    "<img src=\"images/join.png\">\n",
    "\n",
    "<img src=\"https://i.stack.imgur.com/ytO9K.png\">"
   ]
  },
  {
   "cell_type": "code",
   "execution_count": null,
   "metadata": {
    "collapsed": true
   },
   "outputs": [],
   "source": [
    "SELECT Orders.OrderID, Customers.CustomerName\n",
    "FROM Orders\n",
    "INNER JOIN Customers ON Orders.CustomerID = Customers.CustomerID;"
   ]
  },
  {
   "cell_type": "markdown",
   "metadata": {},
   "source": [
    "#### Lookups that span relationships\n",
    "Django offers a powerful and intuitive way to “follow” relationships in lookups, taking care of the SQL JOINs for you automatically, behind the scenes. To span a relationship, just use the field name of related fields across models, separated by double underscores, until you get to the field you want.\n",
    "\n",
    "This example retrieves all Entry objects with a Blog whose name is 'Beatles Blog':"
   ]
  },
  {
   "cell_type": "code",
   "execution_count": null,
   "metadata": {},
   "outputs": [],
   "source": [
    "from django.db import models\n",
    "\n",
    "class Blog(models.Model):\n",
    "    name = models.CharField(max_length=100)\n",
    "    tagline = models.TextField()\n",
    "\n",
    "class Entry(models.Model):\n",
    "    blog = models.ForeignKey(Blog, on_delete=models.CASCADE)\n",
    "    authors = models.ManyToManyField(Author)\n",
    "    headline = models.CharField(max_length=255)\n",
    "    body_text = models.TextField()\n",
    "    pub_date = models.DateField()\n",
    "    mod_date = models.DateField()\n",
    "    n_comments = models.IntegerField()\n",
    "    n_pingbacks = models.IntegerField()\n",
    "    rating = models.IntegerField()"
   ]
  },
  {
   "cell_type": "code",
   "execution_count": null,
   "metadata": {
    "collapsed": true
   },
   "outputs": [],
   "source": [
    "#This spanning can be as deep as you’d like.\n",
    "Entry.objects.filter(blog__name='Beatles Blog')"
   ]
  },
  {
   "cell_type": "markdown",
   "metadata": {},
   "source": [
    "#### “reverse” relationship\n",
    "It works backwards, too. To refer to a “reverse” relationship, just use the lowercase name of the model.\n",
    "\n",
    "This example retrieves all Blog objects which have at least one Entry whose headline contains 'Lennon':"
   ]
  },
  {
   "cell_type": "code",
   "execution_count": null,
   "metadata": {
    "collapsed": true
   },
   "outputs": [],
   "source": [
    "Blog.objects.filter(entry__headline__contains='Lennon')\n",
    "Blog.objects.filter(entry__authors__name='Lennon')"
   ]
  },
  {
   "cell_type": "markdown",
   "metadata": {},
   "source": [
    "#### Related objects\n",
    "When you define a relationship in a model (i.e., a ForeignKey, OneToOneField, or ManyToManyField), instances of that model will have a convenient API to access the related object(s).\n",
    "\n",
    "Using the models at the top of this page, for example, an Entry object e can get its associated Blog object by accessing the blog attribute: e.blog.\n",
    "\n",
    "(Behind the scenes, this functionality is implemented by Python descriptors. This shouldn’t really matter to you, but we point it out here for the curious.)\n",
    "\n",
    "Django also creates API accessors for the “other” side of the relationship – the link from the related model to the model that defines the relationship. For example, a Blog object b has access to a list of all related Entry objects via the entry_set attribute: b.entry_set.all().\n",
    "\n",
    "#### One-to-many relationships Forward\n"
   ]
  },
  {
   "cell_type": "code",
   "execution_count": null,
   "metadata": {
    "collapsed": true
   },
   "outputs": [],
   "source": [
    "e = Entry.objects.get(id=2)\n",
    "e.blog = some_blog\n",
    "e.save()"
   ]
  },
  {
   "cell_type": "markdown",
   "metadata": {},
   "source": [
    "#### Following relationships “backward”"
   ]
  },
  {
   "cell_type": "markdown",
   "metadata": {},
   "source": [
    "If a model has a ForeignKey, instances of the foreign-key model will have access to a Manager that returns all instances of the first model. By default, this Manager is named FOO_set, where FOO is the source model name, lowercased. This Manager returns QuerySets, which can be filtered and manipulated as described in the “Retrieving objects” section above."
   ]
  },
  {
   "cell_type": "code",
   "execution_count": null,
   "metadata": {
    "collapsed": true
   },
   "outputs": [],
   "source": [
    "b = Blog.objects.get(id=1)\n",
    "b.entry_set.all() # Returns all Entry objects related to Blog.\n",
    "\n",
    "# b.entry_set is a Manager that returns QuerySets.\n",
    "b.entry_set.filter(headline__contains='Lennon')\n",
    "b.entry_set.count()"
   ]
  },
  {
   "cell_type": "markdown",
   "metadata": {},
   "source": [
    "#### Many-to-many relationships\n",
    "\n",
    "Both ends of a many-to-many relationship get automatic API access to the other end. The API works just as a “backward” one-to-many relationship, above.\n",
    "\n",
    "The only difference is in the attribute naming: The model that defines the ManyToManyField uses the attribute name of that field itself, whereas the “reverse” model uses the lowercased model name of the original model, plus '_set' (just like reverse one-to-many relationships).\n",
    "\n",
    "An example makes this easier to understand:"
   ]
  },
  {
   "cell_type": "code",
   "execution_count": null,
   "metadata": {
    "collapsed": true
   },
   "outputs": [],
   "source": [
    "e = Entry.objects.get(id=3)\n",
    "e.authors.all() # Returns all Author objects for this Entry.\n",
    "e.authors.count()\n",
    "e.authors.filter(name__contains='John')\n",
    "\n",
    "a = Author.objects.get(id=5)\n",
    "a.entry_set.all() # Returns all Entry objects for this Author."
   ]
  },
  {
   "cell_type": "markdown",
   "metadata": {},
   "source": [
    "#### create"
   ]
  },
  {
   "cell_type": "code",
   "execution_count": null,
   "metadata": {
    "collapsed": true
   },
   "outputs": [],
   "source": [
    "# Give the Question a couple of Choices. The create call constructs a new\n",
    "# Choice object, does the INSERT statement, adds the choice to the set\n",
    "# of available choices and returns the new Choice object. Django creates\n",
    "# a set to hold the \"other side\" of a ForeignKey relation\n",
    "# (e.g. a question's choice) which can be accessed via the API.\n",
    "q = Question.objects.get(pk=1)\n",
    "\n",
    "# Display any choices from the related object set -- none so far.\n",
    "q.choice_set.all()\n",
    "#<QuerySet []>\n",
    "\n",
    "# Create three choices.\n",
    "q.choice_set.create(choice_text='Not much', votes=0)\n",
    "#<Choice: Not much>\n",
    "q.choice_set.create(choice_text='The sky', votes=0)\n",
    "#<Choice: The sky>\n",
    "c = q.choice_set.create(choice_text='Just hacking again', votes=0)\n",
    "\n",
    "# Choice objects have API access to their related Question objects.\n",
    "c.question\n",
    "#<Question: What's up?>\n",
    "\n",
    "# And vice versa: Question objects get access to Choice objects.\n",
    "q.choice_set.all()\n",
    "#<QuerySet [<Choice: Not much>, <Choice: The sky>, <Choice: Just hacking again>]>\n",
    "q.choice_set.count()\n",
    "#3"
   ]
  },
  {
   "cell_type": "markdown",
   "metadata": {},
   "source": [
    "# Performing raw SQL queries\n",
    "\n",
    "## Warning\n",
    "\n",
    "You should be very careful whenever you write raw SQL. Every time you use it, you should properly escape any parameters that the user can control by using params in order to protect against SQL injection attacks. Please read more about SQL injection protection."
   ]
  },
  {
   "cell_type": "code",
   "execution_count": null,
   "metadata": {
    "collapsed": true
   },
   "outputs": [],
   "source": [
    "class Person(models.Model):\n",
    "    first_name = models.CharField(...)\n",
    "    last_name = models.CharField(...)\n",
    "    birth_date = models.DateField(...)"
   ]
  },
  {
   "cell_type": "code",
   "execution_count": null,
   "metadata": {
    "collapsed": true
   },
   "outputs": [],
   "source": [
    "for p in Person.objects.raw('SELECT * FROM myapp_person'):\n",
    "...     print(p)\n",
    "John Smith\n",
    "Jane Jones"
   ]
  },
  {
   "cell_type": "code",
   "execution_count": null,
   "metadata": {
    "collapsed": true
   },
   "outputs": [],
   "source": [
    ">>> Person.objects.raw('''SELECT first AS first_name,\n",
    "...                              last AS last_name,\n",
    "...                              bd AS birth_date,\n",
    "...                              pk AS id,\n",
    "...                       FROM some_other_table''')"
   ]
  },
  {
   "cell_type": "markdown",
   "metadata": {},
   "source": [
    "# Exercise\n",
    "\n",
    "### 1. what is the difference between NULL and Blank ? \n",
    "### 2.<img src=\"images/e1.bmp\">\n",
    "### 3.create customer model"
   ]
  },
  {
   "cell_type": "code",
   "execution_count": null,
   "metadata": {
    "collapsed": true
   },
   "outputs": [],
   "source": [
    "CREATE TABLE CUSTOMERS(\n",
    "   ID   INT              NOT NULL,\n",
    "   NAME VARCHAR (20)     NOT NULL,\n",
    "   AGE  INT              NOT NULL,\n",
    "   ADDRESS  CHAR (25) ,\n",
    "   SALARY   DECIMAL (18, 2),       \n",
    "   PRIMARY KEY (ID)\n",
    ");"
   ]
  },
  {
   "cell_type": "code",
   "execution_count": null,
   "metadata": {
    "collapsed": true
   },
   "outputs": [],
   "source": [
    "+---------+---------------+------+-----+---------+-------+\n",
    "| Field   | Type          | Null | Key | Default | Extra |\n",
    "+---------+---------------+------+-----+---------+-------+\n",
    "| ID      | int(11)       | NO   | PRI |         |       |\n",
    "| NAME    | varchar(20)   | NO   |     |         |       |\n",
    "| AGE     | int(11)       | NO   |     |         |       |\n",
    "| ADDRESS | char(25)      | YES  |     | NULL    |       |\n",
    "| SALARY  | decimal(18,2) | YES  |     | NULL    |       |\n",
    "+---------+---------------+------+-----+---------+-------+\n"
   ]
  },
  {
   "cell_type": "markdown",
   "metadata": {},
   "source": [
    "### 4. create model\n",
    "<img src=\"https://support.airtable.com/hc/en-us/article_attachments/206766538/Screen_Shot_2016-04-26_at_3.21.49_PM.png\">"
   ]
  },
  {
   "cell_type": "markdown",
   "metadata": {},
   "source": [
    "### 5.install SQLiteManager"
   ]
  },
  {
   "cell_type": "markdown",
   "metadata": {
    "collapsed": true
   },
   "source": [
    "### 6."
   ]
  },
  {
   "cell_type": "markdown",
   "metadata": {},
   "source": [
    "\n",
    "<img src=\"https://mdn.mozillademos.org/files/14021/local_library_model_uml_v0_1.png\">"
   ]
  },
  {
   "cell_type": "code",
   "execution_count": null,
   "metadata": {},
   "outputs": [],
   "source": [
    "from django.db import models\n",
    "import uuid\n",
    "\n",
    "class Author(models.Model):\n",
    "    \"\"\"\n",
    "    Model representing an author.\n",
    "    \"\"\"\n",
    "    first_name = models.CharField(max_length=100)\n",
    "    last_name = models.CharField(max_length=100)\n",
    "    date_of_birth = models.DateField(null=True, blank=True)\n",
    "    date_of_death = models.DateField('Died', null=True, blank=True)\n",
    "\n",
    "class Genre(models.Model):\n",
    "    name= models.CharField(max_length=200, help_text=\"Enter a book genre (e.g. Science Fiction, French Poetry etc.)\")\n",
    "\n",
    "\n",
    "class Book(models.Model):\n",
    "    title= models.CharField(max_length=200)\n",
    "    author=models.ForeignKey(Author, null=True, on_delete=models.SET_NULL)\n",
    "    summary = models.TextField(max_length=1000, help_text=\"Enter a brief description of the book\")\n",
    "    isbn = models.CharField('ISBN',max_length=13, help_text='13 Character <a href=\"https://www.isbn-international.org/content/what-isbn\">ISBN number</a>')\n",
    "    genre= models.ManyToManyField(Genre, help_text=\"Select a genre for this book\")\n",
    "\n",
    "    \n",
    "class BookInstance(models.Model):\n",
    "    \"\"\"\n",
    "    Model representing a specific copy of a book (i.e. that can be borrowed from the library).\n",
    "    \"\"\"\n",
    "    id = models.UUIDField(primary_key=True, default=uuid.uuid4, help_text=\"Unique ID for this particular book across whole library\")\n",
    "    book = models.ForeignKey('Book', on_delete=models.SET_NULL, null=True)\n",
    "    imprint = models.CharField(max_length=200)\n",
    "    due_back = models.DateField(null=True, blank=True)\n",
    "\n",
    "    LOAN_STATUS = (\n",
    "        ('m', 'Maintenance'),\n",
    "        ('o', 'On loan'),\n",
    "        ('a', 'Available'),\n",
    "        ('r', 'Reserved'),\n",
    "    )\n",
    "\n",
    "    status = models.CharField(max_length=1, choices=LOAN_STATUS, blank=True, default='m', help_text='Book availability')\n",
    "\n"
   ]
  }
 ],
 "metadata": {
  "kernelspec": {
   "display_name": "Python 3",
   "language": "python",
   "name": "python3"
  },
  "language_info": {
   "codemirror_mode": {
    "name": "ipython",
    "version": 3
   },
   "file_extension": ".py",
   "mimetype": "text/x-python",
   "name": "python",
   "nbconvert_exporter": "python",
   "pygments_lexer": "ipython3",
   "version": "3.5.3"
  }
 },
 "nbformat": 4,
 "nbformat_minor": 2
}
