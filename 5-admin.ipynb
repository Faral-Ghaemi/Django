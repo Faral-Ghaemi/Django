{
 "cells": [
  {
   "cell_type": "markdown",
   "metadata": {},
   "source": [
    "# Django UnChained\n",
    "\n",
    "<img src=\"images/django.jpg\">\n",
    "\n",
    "# Admin"
   ]
  },
  {
   "cell_type": "markdown",
   "metadata": {},
   "source": [
    "# Model"
   ]
  },
  {
   "cell_type": "code",
   "execution_count": null,
   "metadata": {},
   "outputs": [],
   "source": [
    "class Author(models.Model):\n",
    "    \"\"\"\n",
    "    Model representing an author.\n",
    "    \"\"\"\n",
    "    first_name = models.CharField(max_length=100)\n",
    "    last_name = models.CharField(max_length=100)\n",
    "    date_of_birth = models.DateField(null=True, blank=True)\n",
    "    date_of_death = models.DateField('Died', null=True, blank=True)\n",
    "    \n",
    "    def get_absolute_url(self):\n",
    "        \"\"\"\n",
    "        Returns the url to access a particular author instance.\n",
    "        \"\"\"\n",
    "        return reverse('author-detail', args=[str(self.id)])\n",
    "    \n",
    "\n",
    "    def __str__(self):\n",
    "        \"\"\"\n",
    "        String for representing the Model object.\n",
    "        \"\"\"\n",
    "        return '%s, %s' % (self.last_name, self.first_name)\n",
    "\n",
    "\n",
    "\n",
    "import uuid # Required for unique book instances\n",
    "\n",
    "class BookInstance(models.Model):\n",
    "    \"\"\"\n",
    "    Model representing a specific copy of a book (i.e. that can be borrowed from the library).\n",
    "    \"\"\"\n",
    "    id = models.UUIDField(primary_key=True, default=uuid.uuid4, help_text=\"Unique ID for this particular book across whole library\")\n",
    "    book = models.ForeignKey('Book', on_delete=models.SET_NULL, null=True) \n",
    "    imprint = models.CharField(max_length=200)\n",
    "    due_back = models.DateField(null=True, blank=True)\n",
    "\n",
    "    LOAN_STATUS = (\n",
    "        ('m', 'Maintenance'),\n",
    "        ('o', 'On loan'),\n",
    "        ('a', 'Available'),\n",
    "        ('r', 'Reserved'),\n",
    "    )\n",
    "\n",
    "    status = models.CharField(max_length=1, choices=LOAN_STATUS, blank=True, default='m', help_text='Book availability')\n",
    "\n",
    "    class Meta:\n",
    "        ordering = [\"due_back\"]\n",
    "        \n",
    "\n",
    "    def __str__(self):\n",
    "        \"\"\"\n",
    "        String for representing the Model object\n",
    "        \"\"\"\n",
    "        return '%s (%s)' % (self.id,self.book.title)\n",
    "\n",
    "\n",
    "\n",
    "from django.urls import reverse #Used to generate URLs by reversing the URL patterns\n",
    "\n",
    "class Book(models.Model):\n",
    "    \"\"\"\n",
    "    Model representing a book (but not a specific copy of a book).\n",
    "    \"\"\"\n",
    "    title = models.CharField(max_length=200)\n",
    "    author = models.ForeignKey('Author', on_delete=models.SET_NULL, null=True)\n",
    "    # Foreign Key used because book can only have one author, but authors can have multiple books\n",
    "    # Author as a string rather than object because it hasn't been declared yet in the file.\n",
    "    summary = models.TextField(max_length=1000, help_text=\"Enter a brief description of the book\")\n",
    "    isbn = models.CharField('ISBN',max_length=13, help_text='13 Character <a href=\"https://www.isbn-international.org/content/what-isbn\">ISBN number</a>')\n",
    "    genre = models.ManyToManyField(Genre, help_text=\"Select a genre for this book\")\n",
    "    # ManyToManyField used because genre can contain many books. Books can cover many genres.\n",
    "    # Genre class has already been defined so we can specify the object above.\n",
    "    \n",
    "    def __str__(self):\n",
    "        \"\"\"\n",
    "        String for representing the Model object.\n",
    "        \"\"\"\n",
    "        return self.title\n",
    "    \n",
    "    \n",
    "    def get_absolute_url(self):\n",
    "        \"\"\"\n",
    "        Returns the url to access a particular book instance.\n",
    "        \"\"\"\n",
    "        return reverse('book-detail', args=[str(self.id)])\n",
    "\n",
    "\n",
    "class Genre(models.Model):\n",
    "    \"\"\"\n",
    "    Model representing a book genre (e.g. Science Fiction, Non Fiction).\n",
    "    \"\"\"\n",
    "    name = models.CharField(max_length=200, help_text=\"Enter a book genre (e.g. Science Fiction, French Poetry etc.)\")\n",
    "    \n",
    "    def __str__(self):\n",
    "        \"\"\"\n",
    "        String for representing the Model object (in Admin site etc.)\n",
    "        \"\"\"\n",
    "        return self.name"
   ]
  },
  {
   "cell_type": "markdown",
   "metadata": {},
   "source": [
    "# Creating a superuser"
   ]
  },
  {
   "cell_type": "code",
   "execution_count": null,
   "metadata": {},
   "outputs": [],
   "source": [
    "python manage.py createsuperuser\n"
   ]
  },
  {
   "cell_type": "markdown",
   "metadata": {},
   "source": [
    "# model registration"
   ]
  },
  {
   "cell_type": "code",
   "execution_count": null,
   "metadata": {},
   "outputs": [],
   "source": [
    "from .models import Author, Genre, Book, BookInstance\n",
    "\n",
    "admin.site.register(Book)\n",
    "admin.site.register(Author)\n",
    "admin.site.register(Genre)\n",
    "admin.site.register(BookInstance)"
   ]
  },
  {
   "cell_type": "markdown",
   "metadata": {},
   "source": [
    "# ModelAdmin class"
   ]
  },
  {
   "cell_type": "code",
   "execution_count": null,
   "metadata": {},
   "outputs": [],
   "source": [
    "# Define the admin class\n",
    "class AuthorAdmin(admin.ModelAdmin):\n",
    "    \n",
    "    pass\n",
    "\n",
    "# Register the admin class with the associated model\n",
    "admin.site.register(Author, AuthorAdmin)"
   ]
  },
  {
   "cell_type": "markdown",
   "metadata": {},
   "source": [
    "# decorator"
   ]
  },
  {
   "cell_type": "code",
   "execution_count": null,
   "metadata": {},
   "outputs": [],
   "source": [
    "# Register the Admin classes for Book using the decorator\n",
    "\n",
    "@admin.register(Book)\n",
    "class BookAdmin(admin.ModelAdmin):\n",
    "    pass"
   ]
  },
  {
   "cell_type": "markdown",
   "metadata": {},
   "source": [
    "# list_display"
   ]
  },
  {
   "cell_type": "code",
   "execution_count": null,
   "metadata": {},
   "outputs": [],
   "source": [
    "class BookAdmin(admin.ModelAdmin):\n",
    "    list_display = ('title', 'author', 'display_genre')\n",
    "    \n",
    "def display_genre(self):\n",
    "    \"\"\"\n",
    "    Creates a string for the Genre. This is required to display genre in Admin.\n",
    "    \"\"\"\n",
    "    return ', '.join([ genre.name for genre in self.genre.all()[:3] ])\n",
    "\n",
    "display_genre.short_description = 'Genre'"
   ]
  },
  {
   "cell_type": "markdown",
   "metadata": {},
   "source": [
    "# list_filter"
   ]
  },
  {
   "cell_type": "code",
   "execution_count": null,
   "metadata": {},
   "outputs": [],
   "source": [
    "class BookInstanceAdmin(admin.ModelAdmin):\n",
    "    list_filter = ('status', 'due_back')"
   ]
  },
  {
   "cell_type": "markdown",
   "metadata": {},
   "source": [
    "# fields"
   ]
  },
  {
   "cell_type": "code",
   "execution_count": null,
   "metadata": {},
   "outputs": [],
   "source": [
    "class AuthorAdmin(admin.ModelAdmin):\n",
    "    list_display = ('last_name', 'first_name', 'date_of_birth', 'date_of_death')\n",
    "    fields = ['first_name', 'last_name', ('date_of_birth', 'date_of_death')]"
   ]
  },
  {
   "cell_type": "markdown",
   "metadata": {},
   "source": [
    "# fieldsets"
   ]
  },
  {
   "cell_type": "code",
   "execution_count": null,
   "metadata": {},
   "outputs": [],
   "source": [
    "@admin.register(BookInstance)\n",
    "class BookInstanceAdmin(admin.ModelAdmin):\n",
    "    list_filter = ('status', 'due_back')\n",
    "    \n",
    "    fieldsets = (\n",
    "        (None, {\n",
    "            'fields': ('book', 'imprint', 'id')\n",
    "        }),\n",
    "        ('Availability', {\n",
    "            'fields': ('status', 'due_back')\n",
    "        }),\n",
    "    )"
   ]
  },
  {
   "cell_type": "markdown",
   "metadata": {},
   "source": [
    "# Inline editing "
   ]
  },
  {
   "cell_type": "code",
   "execution_count": null,
   "metadata": {},
   "outputs": [],
   "source": [
    "class BooksInstanceInline(admin.TabularInline):\n",
    "    model = BookInstance\n",
    "\n",
    "@admin.register(Book)\n",
    "class BookAdmin(admin.ModelAdmin):\n",
    "    list_display = ('title', 'author', 'display_genre')\n",
    "    inlines = [BooksInstanceInline]"
   ]
  }
 ],
 "metadata": {
  "kernelspec": {
   "display_name": "Python 3",
   "language": "python",
   "name": "python3"
  },
  "language_info": {
   "codemirror_mode": {
    "name": "ipython",
    "version": 3
   },
   "file_extension": ".py",
   "mimetype": "text/x-python",
   "name": "python",
   "nbconvert_exporter": "python",
   "pygments_lexer": "ipython3",
   "version": "3.5.3"
  }
 },
 "nbformat": 4,
 "nbformat_minor": 2
}
